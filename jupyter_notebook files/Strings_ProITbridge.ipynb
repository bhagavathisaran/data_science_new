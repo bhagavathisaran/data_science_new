{
 "cells": [
  {
   "cell_type": "markdown",
   "id": "3010f9f1-c754-4305-827b-54c349804de4",
   "metadata": {},
   "source": [
    "## Strings"
   ]
  },
  {
   "cell_type": "markdown",
   "id": "3d75eb1a-5a09-48f8-a09d-6daa8fb2da34",
   "metadata": {},
   "source": [
    "### 1.Count the number of vowels in a string"
   ]
  },
  {
   "cell_type": "code",
   "execution_count": 21,
   "id": "78f15253-a636-4d0f-98c0-18f8b70e9248",
   "metadata": {},
   "outputs": [
    {
     "name": "stdin",
     "output_type": "stream",
     "text": [
      "Enter a word to count the vowels :  AEIOUUUU\n"
     ]
    },
    {
     "name": "stdout",
     "output_type": "stream",
     "text": [
      "The total number of vowels present in the given words is : 8\n"
     ]
    }
   ],
   "source": [
    "vowels = ['a','e','i','o','u']\n",
    "counter = 0\n",
    "user_input = input(\"Enter a word to count the vowels : \")\n",
    "for i in user_input.lower():\n",
    "    if i in vowels:\n",
    "       counter += 1\n",
    "print(f\"The total number of vowels present in the given words is : {counter}\")"
   ]
  },
  {
   "cell_type": "markdown",
   "id": "85f52d93-b5a4-4aed-9b20-6394bcf45753",
   "metadata": {},
   "source": [
    "### 2.Check if a string is a palindrome"
   ]
  },
  {
   "cell_type": "code",
   "execution_count": 25,
   "id": "79ee9bd7-ef16-494f-ade2-17c59d7afc57",
   "metadata": {},
   "outputs": [
    {
     "name": "stdin",
     "output_type": "stream",
     "text": [
      "Enter a word to check palindrome :  Malayalam\n"
     ]
    },
    {
     "name": "stdout",
     "output_type": "stream",
     "text": [
      "The given word Malayalam is a Palindrom\n"
     ]
    }
   ],
   "source": [
    "word = input(\"Enter a word to check palindrome : \")\n",
    "if word.lower() == word[::-1].lower():\n",
    "    print(f\"The given word {word} is a Palindrom\")\n",
    "else:\n",
    "    print(f\"The given word {word} is Not a Palindrom\")"
   ]
  },
  {
   "cell_type": "markdown",
   "id": "c38768d2-6bd0-4497-85ff-fbebb1c45db2",
   "metadata": {},
   "source": [
    "### 3.Find the first non-repeating character in a string"
   ]
  },
  {
   "cell_type": "code",
   "execution_count": 29,
   "id": "1f774a60-fc3c-439d-a7be-8231cd448b20",
   "metadata": {},
   "outputs": [
    {
     "name": "stdin",
     "output_type": "stream",
     "text": [
      "Enter a string:  xcvfdgfdvdbh\n"
     ]
    },
    {
     "name": "stdout",
     "output_type": "stream",
     "text": [
      "The first non-repeating character is: x\n"
     ]
    }
   ],
   "source": [
    "user_input = input(\"Enter a string: \")\n",
    "\n",
    "for char in user_input:\n",
    "    if user_input.count(char) == 1:\n",
    "        print(f\"The first non-repeating character is: {char}\")\n",
    "        break\n",
    "else:\n",
    "    print(\"There is no non-repeating character.\")"
   ]
  },
  {
   "cell_type": "markdown",
   "id": "9970e50b-a442-4cff-a5b9-6a8c2fa74187",
   "metadata": {},
   "source": [
    "### 4.Find the longest substring without repeating characters"
   ]
  },
  {
   "cell_type": "code",
   "execution_count": null,
   "id": "7d55f2bd-81be-4416-928f-7b4395d156c3",
   "metadata": {},
   "outputs": [],
   "source": []
  },
  {
   "cell_type": "markdown",
   "id": "b7bce7f8-1c12-4d56-9a4e-576da51985f9",
   "metadata": {},
   "source": [
    "### 5.Remove all duplicate characters from a string while maintaining order."
   ]
  },
  {
   "cell_type": "code",
   "execution_count": null,
   "id": "feb3ad00-672a-4342-b013-a37191e71119",
   "metadata": {},
   "outputs": [],
   "source": []
  },
  {
   "cell_type": "markdown",
   "id": "0f351c69-c886-46e2-92de-0afed80feff8",
   "metadata": {},
   "source": [
    "### 6.Write a function that capitalizes the first letter of every word in a sentence. "
   ]
  },
  {
   "cell_type": "code",
   "execution_count": null,
   "id": "ae3ea5a8-8bcc-4294-a175-df630a020d0c",
   "metadata": {},
   "outputs": [],
   "source": []
  },
  {
   "cell_type": "markdown",
   "id": "d3a340f6-07f3-451b-b46a-948d508d1dc5",
   "metadata": {},
   "source": [
    "### 7.Write a function to check if two strings are anagrams (contain the same letters in a different order)."
   ]
  },
  {
   "cell_type": "code",
   "execution_count": null,
   "id": "ae2a49c8-60d7-409d-82ca-a89262080372",
   "metadata": {},
   "outputs": [],
   "source": []
  }
 ],
 "metadata": {
  "kernelspec": {
   "display_name": "Python 3 (ipykernel)",
   "language": "python",
   "name": "python3"
  },
  "language_info": {
   "codemirror_mode": {
    "name": "ipython",
    "version": 3
   },
   "file_extension": ".py",
   "mimetype": "text/x-python",
   "name": "python",
   "nbconvert_exporter": "python",
   "pygments_lexer": "ipython3",
   "version": "3.13.5"
  }
 },
 "nbformat": 4,
 "nbformat_minor": 5
}
