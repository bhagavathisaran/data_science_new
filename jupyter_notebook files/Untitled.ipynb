{
 "cells": [
  {
   "cell_type": "code",
   "execution_count": 2,
   "id": "c30d4e45-b020-412e-8c8b-2af583b618c0",
   "metadata": {},
   "outputs": [
    {
     "name": "stdin",
     "output_type": "stream",
     "text": [
      "Enter the Name?  BHAGAVATHI SARAN\n"
     ]
    },
    {
     "name": "stdout",
     "output_type": "stream",
     "text": [
      "Your Name is : Saran\n"
     ]
    }
   ],
   "source": [
    "name = input(\"Enter the Name? \").strip().title()\n",
    "first,last = name.split(\" \")\n",
    "print(f\"Your Name is : {last}\")\n"
   ]
  },
  {
   "cell_type": "code",
   "execution_count": 19,
   "id": "cbb35ede-daa2-4891-a7f4-ebd63c5aeff4",
   "metadata": {},
   "outputs": [
    {
     "name": "stdin",
     "output_type": "stream",
     "text": [
      "Enter the X value :  54554.151653\n",
      "Enter the Y Value :  12456.1556\n"
     ]
    },
    {
     "name": "stdout",
     "output_type": "stream",
     "text": [
      "67010.307\n"
     ]
    }
   ],
   "source": [
    "# x = eval(input(\"Enter the X value : \"))\n",
    "# y = eval(input(\"Enter the Y Value : \"))\n",
    "# z = x+y\n",
    "# print(f\"{z:.3f}\")"
   ]
  },
  {
   "cell_type": "code",
   "execution_count": 4,
   "id": "1c83d7fa-15d1-43ba-86f9-fd7492988079",
   "metadata": {},
   "outputs": [
    {
     "name": "stdin",
     "output_type": "stream",
     "text": [
      "Enter the X value :  4875.452\n",
      "Enter the Y Value :  95345.156\n"
     ]
    },
    {
     "name": "stdout",
     "output_type": "stream",
     "text": [
      "0.0511\n"
     ]
    }
   ],
   "source": [
    "def hello():\n",
    "    x = eval(input(\"Enter the X value : \"))\n",
    "    y = eval(input(\"Enter the Y Value : \"))\n",
    "    z = x/y\n",
    "    print(f\"{z:.4f}\")\n",
    "hello()\n",
    "\n",
    "    "
   ]
  },
  {
   "cell_type": "markdown",
   "id": "0d0d6389-934b-420a-9d70-5bb8c9e5c444",
   "metadata": {},
   "source": [
    "Closure Example below (Closure means function inside a function)"
   ]
  },
  {
   "cell_type": "code",
   "execution_count": 21,
   "id": "04af2835-4cdc-4dd1-a961-de64f34735e7",
   "metadata": {},
   "outputs": [
    {
     "name": "stdout",
     "output_type": "stream",
     "text": [
      "Hello\n"
     ]
    }
   ],
   "source": [
    "def say():\n",
    "    greeting = 'Hello'\n",
    "    def display():\n",
    "        print(greeting)\n",
    "    return display\n",
    "fn = say()\n",
    "fn()"
   ]
  },
  {
   "cell_type": "code",
   "execution_count": 22,
   "id": "b5edd9a8-f65a-42d5-8243-6eee8f8646c9",
   "metadata": {},
   "outputs": [
    {
     "name": "stdout",
     "output_type": "stream",
     "text": [
      "(<cell at 0x000001F8F149A200: str object at 0x000001F8F12B74F0>,)\n"
     ]
    }
   ],
   "source": [
    "print(fn.__closure__)"
   ]
  },
  {
   "cell_type": "code",
   "execution_count": 25,
   "id": "fe36bc7f-7448-4eec-8ab4-9a5b2cc6ee20",
   "metadata": {},
   "outputs": [
    {
     "name": "stdout",
     "output_type": "stream",
     "text": [
      "10\n",
      "20\n",
      "30\n",
      "40\n"
     ]
    }
   ],
   "source": [
    "def multiplier(x):\n",
    "    def multiply(y):\n",
    "        return x * y\n",
    "    return multiply\n",
    "\n",
    "\n",
    "multipliers = []\n",
    "for x in range(1, 5):\n",
    "    multipliers.append(multiplier(x))\n",
    "\n",
    "m1, m2, m3,m4 = multipliers\n",
    "\n",
    "print(m1(10))\n",
    "print(m2(10))\n",
    "print(m3(10))\n",
    "print(m4(10))\n"
   ]
  },
  {
   "cell_type": "code",
   "execution_count": 4,
   "id": "b644d3db-3a15-4c18-bfa1-0572407ef977",
   "metadata": {},
   "outputs": [
    {
     "name": "stdout",
     "output_type": "stream",
     "text": [
      "140723670851464\n",
      "140723670851464\n"
     ]
    }
   ],
   "source": [
    "a = 100\n",
    "b = a\n",
    "a is b\n",
    "print(id(a))\n",
    "print(id(b))"
   ]
  },
  {
   "cell_type": "code",
   "execution_count": 6,
   "id": "82405474-efab-4989-a386-4f5e4c3245d1",
   "metadata": {},
   "outputs": [
    {
     "name": "stdout",
     "output_type": "stream",
     "text": [
      "140723670851464\n",
      "140723670851496\n"
     ]
    }
   ],
   "source": [
    "a = 100\n",
    "b = 101\n",
    "print(id(a))\n",
    "print(id(b))"
   ]
  },
  {
   "cell_type": "code",
   "execution_count": 7,
   "id": "19ac57f7-25b3-48ef-85e5-f01ee1cb6196",
   "metadata": {},
   "outputs": [
    {
     "data": {
      "text/plain": [
       "('Facebook', 2019, 70.7)"
      ]
     },
     "execution_count": 7,
     "metadata": {},
     "output_type": "execute_result"
    }
   ],
   "source": [
    "companies = [('Google', 2019, 134.81),\n",
    "             ('Apple', 2019, 260.2),\n",
    "             ('Facebook', 2019, 70.7)]\n",
    "def sort_key(company):\n",
    "    return company[2]\n",
    "sort_key(companies)"
   ]
  },
  {
   "cell_type": "code",
   "execution_count": 1,
   "id": "d92d0d66-8ad1-4587-988d-cecc84d87e3e",
   "metadata": {},
   "outputs": [
    {
     "name": "stdout",
     "output_type": "stream",
     "text": [
      "3\n",
      "0\n",
      "2\n",
      "0\n",
      "0\n",
      "8\n"
     ]
    }
   ],
   "source": [
    "import re\n",
    "\n",
    "s = 'Python 3.0 was released in 2008'\n",
    "matches = re.finditer('\\d', s)\n",
    "for match in matches:\n",
    "    print(match.group())"
   ]
  },
  {
   "cell_type": "code",
   "execution_count": 3,
   "id": "1219e62e-2530-4f98-a479-8b6bf9652162",
   "metadata": {
    "scrolled": true
   },
   "outputs": [
    {
     "data": {
      "text/html": [
       "<div>\n",
       "<style scoped>\n",
       "    .dataframe tbody tr th:only-of-type {\n",
       "        vertical-align: middle;\n",
       "    }\n",
       "\n",
       "    .dataframe tbody tr th {\n",
       "        vertical-align: top;\n",
       "    }\n",
       "\n",
       "    .dataframe thead th {\n",
       "        text-align: right;\n",
       "    }\n",
       "</style>\n",
       "<table border=\"1\" class=\"dataframe\">\n",
       "  <thead>\n",
       "    <tr style=\"text-align: right;\">\n",
       "      <th></th>\n",
       "      <th>Type</th>\n",
       "      <th>Name of the ULB</th>\n",
       "      <th>Grade of Municipalities</th>\n",
       "      <th>Total</th>\n",
       "      <th>Male</th>\n",
       "      <th>Female</th>\n",
       "      <th>SC</th>\n",
       "      <th>ST</th>\n",
       "      <th>% of Women Population</th>\n",
       "      <th>% of SC Population</th>\n",
       "      <th>% of ST Population</th>\n",
       "    </tr>\n",
       "  </thead>\n",
       "  <tbody>\n",
       "    <tr>\n",
       "      <th>0</th>\n",
       "      <td>Corporations</td>\n",
       "      <td>Coimbatore</td>\n",
       "      <td>NaN</td>\n",
       "      <td>1262122</td>\n",
       "      <td>646433</td>\n",
       "      <td>615689</td>\n",
       "      <td>77178</td>\n",
       "      <td>535</td>\n",
       "      <td>48.78</td>\n",
       "      <td>6.11</td>\n",
       "      <td>0.04</td>\n",
       "    </tr>\n",
       "    <tr>\n",
       "      <th>1</th>\n",
       "      <td>Corporations</td>\n",
       "      <td>Madurai</td>\n",
       "      <td>NaN</td>\n",
       "      <td>1230015</td>\n",
       "      <td>621731</td>\n",
       "      <td>608284</td>\n",
       "      <td>53676</td>\n",
       "      <td>2064</td>\n",
       "      <td>49.45</td>\n",
       "      <td>4.36</td>\n",
       "      <td>0.17</td>\n",
       "    </tr>\n",
       "    <tr>\n",
       "      <th>2</th>\n",
       "      <td>Corporations</td>\n",
       "      <td>Tiruchirapalli</td>\n",
       "      <td>NaN</td>\n",
       "      <td>796644</td>\n",
       "      <td>398542</td>\n",
       "      <td>398102</td>\n",
       "      <td>70969</td>\n",
       "      <td>2991</td>\n",
       "      <td>49.97</td>\n",
       "      <td>8.91</td>\n",
       "      <td>0.38</td>\n",
       "    </tr>\n",
       "    <tr>\n",
       "      <th>3</th>\n",
       "      <td>Corporations</td>\n",
       "      <td>Tirunelveli</td>\n",
       "      <td>NaN</td>\n",
       "      <td>411831</td>\n",
       "      <td>203232</td>\n",
       "      <td>208599</td>\n",
       "      <td>50564</td>\n",
       "      <td>1696</td>\n",
       "      <td>50.65</td>\n",
       "      <td>12.28</td>\n",
       "      <td>0.41</td>\n",
       "    </tr>\n",
       "    <tr>\n",
       "      <th>4</th>\n",
       "      <td>Corporations</td>\n",
       "      <td>Salem</td>\n",
       "      <td>NaN</td>\n",
       "      <td>696760</td>\n",
       "      <td>353933</td>\n",
       "      <td>342827</td>\n",
       "      <td>76653</td>\n",
       "      <td>1345</td>\n",
       "      <td>49.20</td>\n",
       "      <td>11.00</td>\n",
       "      <td>0.19</td>\n",
       "    </tr>\n",
       "    <tr>\n",
       "      <th>...</th>\n",
       "      <td>...</td>\n",
       "      <td>...</td>\n",
       "      <td>...</td>\n",
       "      <td>...</td>\n",
       "      <td>...</td>\n",
       "      <td>...</td>\n",
       "      <td>...</td>\n",
       "      <td>...</td>\n",
       "      <td>...</td>\n",
       "      <td>...</td>\n",
       "      <td>...</td>\n",
       "    </tr>\n",
       "    <tr>\n",
       "      <th>129</th>\n",
       "      <td>Municipalities</td>\n",
       "      <td>Vikramasingapuram</td>\n",
       "      <td>Grade-II</td>\n",
       "      <td>48309</td>\n",
       "      <td>24019</td>\n",
       "      <td>24290</td>\n",
       "      <td>3426</td>\n",
       "      <td>20</td>\n",
       "      <td>50.28</td>\n",
       "      <td>7.09</td>\n",
       "      <td>0.04</td>\n",
       "    </tr>\n",
       "    <tr>\n",
       "      <th>130</th>\n",
       "      <td>Municipalities</td>\n",
       "      <td>Kayalpattinam</td>\n",
       "      <td>Grade-II</td>\n",
       "      <td>32664</td>\n",
       "      <td>15010</td>\n",
       "      <td>17654</td>\n",
       "      <td>2627</td>\n",
       "      <td>14</td>\n",
       "      <td>54.05</td>\n",
       "      <td>8.04</td>\n",
       "      <td>0.04</td>\n",
       "    </tr>\n",
       "    <tr>\n",
       "      <th>131</th>\n",
       "      <td>Municipalities</td>\n",
       "      <td>Kuzhithurai</td>\n",
       "      <td>Grade-II</td>\n",
       "      <td>20503</td>\n",
       "      <td>10069</td>\n",
       "      <td>10434</td>\n",
       "      <td>341</td>\n",
       "      <td>27</td>\n",
       "      <td>50.89</td>\n",
       "      <td>1.66</td>\n",
       "      <td>0.13</td>\n",
       "    </tr>\n",
       "    <tr>\n",
       "      <th>132</th>\n",
       "      <td>Municipalities</td>\n",
       "      <td>Padmanabhapuram</td>\n",
       "      <td>Grade-II</td>\n",
       "      <td>20075</td>\n",
       "      <td>9967</td>\n",
       "      <td>10108</td>\n",
       "      <td>2112</td>\n",
       "      <td>7</td>\n",
       "      <td>50.35</td>\n",
       "      <td>10.52</td>\n",
       "      <td>0.03</td>\n",
       "    </tr>\n",
       "    <tr>\n",
       "      <th>133</th>\n",
       "      <td>Municipalities</td>\n",
       "      <td>Sattur</td>\n",
       "      <td>Grade-II</td>\n",
       "      <td>31443</td>\n",
       "      <td>15439</td>\n",
       "      <td>16004</td>\n",
       "      <td>1954</td>\n",
       "      <td>198</td>\n",
       "      <td>50.90</td>\n",
       "      <td>6.21</td>\n",
       "      <td>0.63</td>\n",
       "    </tr>\n",
       "  </tbody>\n",
       "</table>\n",
       "<p>134 rows × 11 columns</p>\n",
       "</div>"
      ],
      "text/plain": [
       "               Type    Name of the ULB Grade of Municipalities    Total  \\\n",
       "0      Corporations         Coimbatore                     NaN  1262122   \n",
       "1      Corporations            Madurai                     NaN  1230015   \n",
       "2      Corporations     Tiruchirapalli                     NaN   796644   \n",
       "3      Corporations        Tirunelveli                     NaN   411831   \n",
       "4      Corporations              Salem                     NaN   696760   \n",
       "..              ...                ...                     ...      ...   \n",
       "129  Municipalities  Vikramasingapuram                Grade-II    48309   \n",
       "130  Municipalities      Kayalpattinam                Grade-II    32664   \n",
       "131  Municipalities        Kuzhithurai                Grade-II    20503   \n",
       "132  Municipalities    Padmanabhapuram                Grade-II    20075   \n",
       "133  Municipalities             Sattur                Grade-II    31443   \n",
       "\n",
       "       Male  Female     SC    ST  % of Women Population  % of SC Population  \\\n",
       "0    646433  615689  77178   535                  48.78                6.11   \n",
       "1    621731  608284  53676  2064                  49.45                4.36   \n",
       "2    398542  398102  70969  2991                  49.97                8.91   \n",
       "3    203232  208599  50564  1696                  50.65               12.28   \n",
       "4    353933  342827  76653  1345                  49.20               11.00   \n",
       "..      ...     ...    ...   ...                    ...                 ...   \n",
       "129   24019   24290   3426    20                  50.28                7.09   \n",
       "130   15010   17654   2627    14                  54.05                8.04   \n",
       "131   10069   10434    341    27                  50.89                1.66   \n",
       "132    9967   10108   2112     7                  50.35               10.52   \n",
       "133   15439   16004   1954   198                  50.90                6.21   \n",
       "\n",
       "     % of ST Population  \n",
       "0                  0.04  \n",
       "1                  0.17  \n",
       "2                  0.38  \n",
       "3                  0.41  \n",
       "4                  0.19  \n",
       "..                  ...  \n",
       "129                0.04  \n",
       "130                0.04  \n",
       "131                0.13  \n",
       "132                0.03  \n",
       "133                0.63  \n",
       "\n",
       "[134 rows x 11 columns]"
      ]
     },
     "execution_count": 3,
     "metadata": {},
     "output_type": "execute_result"
    }
   ],
   "source": [
    "import pandas as pd\n",
    "df = pd.read_csv(\"POPULATION_DETAILS_SCST_2001_CENSUS.csv\")\n",
    "df"
   ]
  },
  {
   "cell_type": "code",
   "execution_count": 4,
   "id": "f77a1c6c-d18f-463f-89dd-fd2701b121d5",
   "metadata": {},
   "outputs": [
    {
     "data": {
      "text/plain": [
       "(134, 11)"
      ]
     },
     "execution_count": 4,
     "metadata": {},
     "output_type": "execute_result"
    }
   ],
   "source": [
    "df.shape"
   ]
  },
  {
   "cell_type": "code",
   "execution_count": 6,
   "id": "0dcf4eda-4d39-451d-a4b0-ee09cff30ec0",
   "metadata": {},
   "outputs": [
    {
     "data": {
      "text/plain": [
       "134"
      ]
     },
     "execution_count": 6,
     "metadata": {},
     "output_type": "execute_result"
    }
   ],
   "source": [
    "rows,cols = df.shape\n",
    "rows\n"
   ]
  },
  {
   "cell_type": "code",
   "execution_count": 7,
   "id": "8c6984ea-96d9-46e8-9570-e795e81e0dd3",
   "metadata": {
    "scrolled": true
   },
   "outputs": [
    {
     "data": {
      "text/html": [
       "<div>\n",
       "<style scoped>\n",
       "    .dataframe tbody tr th:only-of-type {\n",
       "        vertical-align: middle;\n",
       "    }\n",
       "\n",
       "    .dataframe tbody tr th {\n",
       "        vertical-align: top;\n",
       "    }\n",
       "\n",
       "    .dataframe thead th {\n",
       "        text-align: right;\n",
       "    }\n",
       "</style>\n",
       "<table border=\"1\" class=\"dataframe\">\n",
       "  <thead>\n",
       "    <tr style=\"text-align: right;\">\n",
       "      <th></th>\n",
       "      <th>Type</th>\n",
       "      <th>Name of the ULB</th>\n",
       "      <th>Grade of Municipalities</th>\n",
       "      <th>Total</th>\n",
       "      <th>Male</th>\n",
       "      <th>Female</th>\n",
       "      <th>SC</th>\n",
       "      <th>ST</th>\n",
       "      <th>% of Women Population</th>\n",
       "      <th>% of SC Population</th>\n",
       "      <th>% of ST Population</th>\n",
       "    </tr>\n",
       "  </thead>\n",
       "  <tbody>\n",
       "    <tr>\n",
       "      <th>0</th>\n",
       "      <td>Corporations</td>\n",
       "      <td>Coimbatore</td>\n",
       "      <td>NaN</td>\n",
       "      <td>1262122</td>\n",
       "      <td>646433</td>\n",
       "      <td>615689</td>\n",
       "      <td>77178</td>\n",
       "      <td>535</td>\n",
       "      <td>48.78</td>\n",
       "      <td>6.11</td>\n",
       "      <td>0.04</td>\n",
       "    </tr>\n",
       "    <tr>\n",
       "      <th>1</th>\n",
       "      <td>Corporations</td>\n",
       "      <td>Madurai</td>\n",
       "      <td>NaN</td>\n",
       "      <td>1230015</td>\n",
       "      <td>621731</td>\n",
       "      <td>608284</td>\n",
       "      <td>53676</td>\n",
       "      <td>2064</td>\n",
       "      <td>49.45</td>\n",
       "      <td>4.36</td>\n",
       "      <td>0.17</td>\n",
       "    </tr>\n",
       "    <tr>\n",
       "      <th>2</th>\n",
       "      <td>Corporations</td>\n",
       "      <td>Tiruchirapalli</td>\n",
       "      <td>NaN</td>\n",
       "      <td>796644</td>\n",
       "      <td>398542</td>\n",
       "      <td>398102</td>\n",
       "      <td>70969</td>\n",
       "      <td>2991</td>\n",
       "      <td>49.97</td>\n",
       "      <td>8.91</td>\n",
       "      <td>0.38</td>\n",
       "    </tr>\n",
       "    <tr>\n",
       "      <th>3</th>\n",
       "      <td>Corporations</td>\n",
       "      <td>Tirunelveli</td>\n",
       "      <td>NaN</td>\n",
       "      <td>411831</td>\n",
       "      <td>203232</td>\n",
       "      <td>208599</td>\n",
       "      <td>50564</td>\n",
       "      <td>1696</td>\n",
       "      <td>50.65</td>\n",
       "      <td>12.28</td>\n",
       "      <td>0.41</td>\n",
       "    </tr>\n",
       "    <tr>\n",
       "      <th>4</th>\n",
       "      <td>Corporations</td>\n",
       "      <td>Salem</td>\n",
       "      <td>NaN</td>\n",
       "      <td>696760</td>\n",
       "      <td>353933</td>\n",
       "      <td>342827</td>\n",
       "      <td>76653</td>\n",
       "      <td>1345</td>\n",
       "      <td>49.20</td>\n",
       "      <td>11.00</td>\n",
       "      <td>0.19</td>\n",
       "    </tr>\n",
       "  </tbody>\n",
       "</table>\n",
       "</div>"
      ],
      "text/plain": [
       "           Type Name of the ULB Grade of Municipalities    Total    Male  \\\n",
       "0  Corporations      Coimbatore                     NaN  1262122  646433   \n",
       "1  Corporations         Madurai                     NaN  1230015  621731   \n",
       "2  Corporations  Tiruchirapalli                     NaN   796644  398542   \n",
       "3  Corporations     Tirunelveli                     NaN   411831  203232   \n",
       "4  Corporations           Salem                     NaN   696760  353933   \n",
       "\n",
       "   Female     SC    ST  % of Women Population  % of SC Population  \\\n",
       "0  615689  77178   535                  48.78                6.11   \n",
       "1  608284  53676  2064                  49.45                4.36   \n",
       "2  398102  70969  2991                  49.97                8.91   \n",
       "3  208599  50564  1696                  50.65               12.28   \n",
       "4  342827  76653  1345                  49.20               11.00   \n",
       "\n",
       "   % of ST Population  \n",
       "0                0.04  \n",
       "1                0.17  \n",
       "2                0.38  \n",
       "3                0.41  \n",
       "4                0.19  "
      ]
     },
     "execution_count": 7,
     "metadata": {},
     "output_type": "execute_result"
    }
   ],
   "source": [
    "df.head()"
   ]
  },
  {
   "cell_type": "code",
   "execution_count": 8,
   "id": "824fe5a0-f230-4de3-b830-19cb282c87ef",
   "metadata": {
    "scrolled": true
   },
   "outputs": [
    {
     "data": {
      "text/html": [
       "<div>\n",
       "<style scoped>\n",
       "    .dataframe tbody tr th:only-of-type {\n",
       "        vertical-align: middle;\n",
       "    }\n",
       "\n",
       "    .dataframe tbody tr th {\n",
       "        vertical-align: top;\n",
       "    }\n",
       "\n",
       "    .dataframe thead th {\n",
       "        text-align: right;\n",
       "    }\n",
       "</style>\n",
       "<table border=\"1\" class=\"dataframe\">\n",
       "  <thead>\n",
       "    <tr style=\"text-align: right;\">\n",
       "      <th></th>\n",
       "      <th>Type</th>\n",
       "      <th>Name of the ULB</th>\n",
       "      <th>Grade of Municipalities</th>\n",
       "      <th>Total</th>\n",
       "      <th>Male</th>\n",
       "      <th>Female</th>\n",
       "      <th>SC</th>\n",
       "      <th>ST</th>\n",
       "      <th>% of Women Population</th>\n",
       "      <th>% of SC Population</th>\n",
       "      <th>% of ST Population</th>\n",
       "    </tr>\n",
       "  </thead>\n",
       "  <tbody>\n",
       "    <tr>\n",
       "      <th>0</th>\n",
       "      <td>Corporations</td>\n",
       "      <td>Coimbatore</td>\n",
       "      <td>NaN</td>\n",
       "      <td>1262122</td>\n",
       "      <td>646433</td>\n",
       "      <td>615689</td>\n",
       "      <td>77178</td>\n",
       "      <td>535</td>\n",
       "      <td>48.78</td>\n",
       "      <td>6.11</td>\n",
       "      <td>0.04</td>\n",
       "    </tr>\n",
       "    <tr>\n",
       "      <th>1</th>\n",
       "      <td>Corporations</td>\n",
       "      <td>Madurai</td>\n",
       "      <td>NaN</td>\n",
       "      <td>1230015</td>\n",
       "      <td>621731</td>\n",
       "      <td>608284</td>\n",
       "      <td>53676</td>\n",
       "      <td>2064</td>\n",
       "      <td>49.45</td>\n",
       "      <td>4.36</td>\n",
       "      <td>0.17</td>\n",
       "    </tr>\n",
       "    <tr>\n",
       "      <th>2</th>\n",
       "      <td>Corporations</td>\n",
       "      <td>Tiruchirapalli</td>\n",
       "      <td>NaN</td>\n",
       "      <td>796644</td>\n",
       "      <td>398542</td>\n",
       "      <td>398102</td>\n",
       "      <td>70969</td>\n",
       "      <td>2991</td>\n",
       "      <td>49.97</td>\n",
       "      <td>8.91</td>\n",
       "      <td>0.38</td>\n",
       "    </tr>\n",
       "    <tr>\n",
       "      <th>3</th>\n",
       "      <td>Corporations</td>\n",
       "      <td>Tirunelveli</td>\n",
       "      <td>NaN</td>\n",
       "      <td>411831</td>\n",
       "      <td>203232</td>\n",
       "      <td>208599</td>\n",
       "      <td>50564</td>\n",
       "      <td>1696</td>\n",
       "      <td>50.65</td>\n",
       "      <td>12.28</td>\n",
       "      <td>0.41</td>\n",
       "    </tr>\n",
       "    <tr>\n",
       "      <th>4</th>\n",
       "      <td>Corporations</td>\n",
       "      <td>Salem</td>\n",
       "      <td>NaN</td>\n",
       "      <td>696760</td>\n",
       "      <td>353933</td>\n",
       "      <td>342827</td>\n",
       "      <td>76653</td>\n",
       "      <td>1345</td>\n",
       "      <td>49.20</td>\n",
       "      <td>11.00</td>\n",
       "      <td>0.19</td>\n",
       "    </tr>\n",
       "    <tr>\n",
       "      <th>5</th>\n",
       "      <td>Corporations</td>\n",
       "      <td>Erode</td>\n",
       "      <td>NaN</td>\n",
       "      <td>405345</td>\n",
       "      <td>206558</td>\n",
       "      <td>198787</td>\n",
       "      <td>12642</td>\n",
       "      <td>74</td>\n",
       "      <td>49.04</td>\n",
       "      <td>3.12</td>\n",
       "      <td>0.02</td>\n",
       "    </tr>\n",
       "    <tr>\n",
       "      <th>6</th>\n",
       "      <td>Corporations</td>\n",
       "      <td>Tiruppur</td>\n",
       "      <td>NaN</td>\n",
       "      <td>548773</td>\n",
       "      <td>286062</td>\n",
       "      <td>262711</td>\n",
       "      <td>13451</td>\n",
       "      <td>161</td>\n",
       "      <td>47.87</td>\n",
       "      <td>2.45</td>\n",
       "      <td>0.03</td>\n",
       "    </tr>\n",
       "    <tr>\n",
       "      <th>7</th>\n",
       "      <td>Corporations</td>\n",
       "      <td>Thoothukudi</td>\n",
       "      <td>NaN</td>\n",
       "      <td>320466</td>\n",
       "      <td>160975</td>\n",
       "      <td>159491</td>\n",
       "      <td>13900</td>\n",
       "      <td>323</td>\n",
       "      <td>49.77</td>\n",
       "      <td>4.34</td>\n",
       "      <td>0.10</td>\n",
       "    </tr>\n",
       "    <tr>\n",
       "      <th>8</th>\n",
       "      <td>Corporations</td>\n",
       "      <td>Vellore</td>\n",
       "      <td>NaN</td>\n",
       "      <td>423425</td>\n",
       "      <td>211547</td>\n",
       "      <td>211878</td>\n",
       "      <td>20531</td>\n",
       "      <td>340</td>\n",
       "      <td>50.04</td>\n",
       "      <td>4.85</td>\n",
       "      <td>0.08</td>\n",
       "    </tr>\n",
       "    <tr>\n",
       "      <th>9</th>\n",
       "      <td>Municipalities</td>\n",
       "      <td>Kancheepuram</td>\n",
       "      <td>Special</td>\n",
       "      <td>197288</td>\n",
       "      <td>99333</td>\n",
       "      <td>97955</td>\n",
       "      <td>11484</td>\n",
       "      <td>800</td>\n",
       "      <td>49.65</td>\n",
       "      <td>5.82</td>\n",
       "      <td>0.41</td>\n",
       "    </tr>\n",
       "  </tbody>\n",
       "</table>\n",
       "</div>"
      ],
      "text/plain": [
       "             Type Name of the ULB Grade of Municipalities    Total    Male  \\\n",
       "0    Corporations      Coimbatore                     NaN  1262122  646433   \n",
       "1    Corporations         Madurai                     NaN  1230015  621731   \n",
       "2    Corporations  Tiruchirapalli                     NaN   796644  398542   \n",
       "3    Corporations     Tirunelveli                     NaN   411831  203232   \n",
       "4    Corporations           Salem                     NaN   696760  353933   \n",
       "5    Corporations           Erode                     NaN   405345  206558   \n",
       "6    Corporations        Tiruppur                     NaN   548773  286062   \n",
       "7    Corporations     Thoothukudi                     NaN   320466  160975   \n",
       "8    Corporations         Vellore                     NaN   423425  211547   \n",
       "9  Municipalities    Kancheepuram                 Special   197288   99333   \n",
       "\n",
       "   Female     SC    ST  % of Women Population  % of SC Population  \\\n",
       "0  615689  77178   535                  48.78                6.11   \n",
       "1  608284  53676  2064                  49.45                4.36   \n",
       "2  398102  70969  2991                  49.97                8.91   \n",
       "3  208599  50564  1696                  50.65               12.28   \n",
       "4  342827  76653  1345                  49.20               11.00   \n",
       "5  198787  12642    74                  49.04                3.12   \n",
       "6  262711  13451   161                  47.87                2.45   \n",
       "7  159491  13900   323                  49.77                4.34   \n",
       "8  211878  20531   340                  50.04                4.85   \n",
       "9   97955  11484   800                  49.65                5.82   \n",
       "\n",
       "   % of ST Population  \n",
       "0                0.04  \n",
       "1                0.17  \n",
       "2                0.38  \n",
       "3                0.41  \n",
       "4                0.19  \n",
       "5                0.02  \n",
       "6                0.03  \n",
       "7                0.10  \n",
       "8                0.08  \n",
       "9                0.41  "
      ]
     },
     "execution_count": 8,
     "metadata": {},
     "output_type": "execute_result"
    }
   ],
   "source": [
    "df.head(10)"
   ]
  },
  {
   "cell_type": "code",
   "execution_count": 9,
   "id": "26603f34-4a6c-43e5-8dcb-a872364d5358",
   "metadata": {
    "scrolled": true
   },
   "outputs": [
    {
     "data": {
      "text/html": [
       "<div>\n",
       "<style scoped>\n",
       "    .dataframe tbody tr th:only-of-type {\n",
       "        vertical-align: middle;\n",
       "    }\n",
       "\n",
       "    .dataframe tbody tr th {\n",
       "        vertical-align: top;\n",
       "    }\n",
       "\n",
       "    .dataframe thead th {\n",
       "        text-align: right;\n",
       "    }\n",
       "</style>\n",
       "<table border=\"1\" class=\"dataframe\">\n",
       "  <thead>\n",
       "    <tr style=\"text-align: right;\">\n",
       "      <th></th>\n",
       "      <th>Type</th>\n",
       "      <th>Name of the ULB</th>\n",
       "      <th>Grade of Municipalities</th>\n",
       "      <th>Total</th>\n",
       "      <th>Male</th>\n",
       "      <th>Female</th>\n",
       "      <th>SC</th>\n",
       "      <th>ST</th>\n",
       "      <th>% of Women Population</th>\n",
       "      <th>% of SC Population</th>\n",
       "      <th>% of ST Population</th>\n",
       "    </tr>\n",
       "  </thead>\n",
       "  <tbody>\n",
       "    <tr>\n",
       "      <th>129</th>\n",
       "      <td>Municipalities</td>\n",
       "      <td>Vikramasingapuram</td>\n",
       "      <td>Grade-II</td>\n",
       "      <td>48309</td>\n",
       "      <td>24019</td>\n",
       "      <td>24290</td>\n",
       "      <td>3426</td>\n",
       "      <td>20</td>\n",
       "      <td>50.28</td>\n",
       "      <td>7.09</td>\n",
       "      <td>0.04</td>\n",
       "    </tr>\n",
       "    <tr>\n",
       "      <th>130</th>\n",
       "      <td>Municipalities</td>\n",
       "      <td>Kayalpattinam</td>\n",
       "      <td>Grade-II</td>\n",
       "      <td>32664</td>\n",
       "      <td>15010</td>\n",
       "      <td>17654</td>\n",
       "      <td>2627</td>\n",
       "      <td>14</td>\n",
       "      <td>54.05</td>\n",
       "      <td>8.04</td>\n",
       "      <td>0.04</td>\n",
       "    </tr>\n",
       "    <tr>\n",
       "      <th>131</th>\n",
       "      <td>Municipalities</td>\n",
       "      <td>Kuzhithurai</td>\n",
       "      <td>Grade-II</td>\n",
       "      <td>20503</td>\n",
       "      <td>10069</td>\n",
       "      <td>10434</td>\n",
       "      <td>341</td>\n",
       "      <td>27</td>\n",
       "      <td>50.89</td>\n",
       "      <td>1.66</td>\n",
       "      <td>0.13</td>\n",
       "    </tr>\n",
       "    <tr>\n",
       "      <th>132</th>\n",
       "      <td>Municipalities</td>\n",
       "      <td>Padmanabhapuram</td>\n",
       "      <td>Grade-II</td>\n",
       "      <td>20075</td>\n",
       "      <td>9967</td>\n",
       "      <td>10108</td>\n",
       "      <td>2112</td>\n",
       "      <td>7</td>\n",
       "      <td>50.35</td>\n",
       "      <td>10.52</td>\n",
       "      <td>0.03</td>\n",
       "    </tr>\n",
       "    <tr>\n",
       "      <th>133</th>\n",
       "      <td>Municipalities</td>\n",
       "      <td>Sattur</td>\n",
       "      <td>Grade-II</td>\n",
       "      <td>31443</td>\n",
       "      <td>15439</td>\n",
       "      <td>16004</td>\n",
       "      <td>1954</td>\n",
       "      <td>198</td>\n",
       "      <td>50.90</td>\n",
       "      <td>6.21</td>\n",
       "      <td>0.63</td>\n",
       "    </tr>\n",
       "  </tbody>\n",
       "</table>\n",
       "</div>"
      ],
      "text/plain": [
       "               Type    Name of the ULB Grade of Municipalities  Total   Male  \\\n",
       "129  Municipalities  Vikramasingapuram                Grade-II  48309  24019   \n",
       "130  Municipalities      Kayalpattinam                Grade-II  32664  15010   \n",
       "131  Municipalities        Kuzhithurai                Grade-II  20503  10069   \n",
       "132  Municipalities    Padmanabhapuram                Grade-II  20075   9967   \n",
       "133  Municipalities             Sattur                Grade-II  31443  15439   \n",
       "\n",
       "     Female    SC   ST  % of Women Population  % of SC Population  \\\n",
       "129   24290  3426   20                  50.28                7.09   \n",
       "130   17654  2627   14                  54.05                8.04   \n",
       "131   10434   341   27                  50.89                1.66   \n",
       "132   10108  2112    7                  50.35               10.52   \n",
       "133   16004  1954  198                  50.90                6.21   \n",
       "\n",
       "     % of ST Population  \n",
       "129                0.04  \n",
       "130                0.04  \n",
       "131                0.13  \n",
       "132                0.03  \n",
       "133                0.63  "
      ]
     },
     "execution_count": 9,
     "metadata": {},
     "output_type": "execute_result"
    }
   ],
   "source": [
    "df.tail()"
   ]
  },
  {
   "cell_type": "code",
   "execution_count": 11,
   "id": "c241de84-b0d3-4812-a30e-5a57d4ccf48c",
   "metadata": {
    "scrolled": true
   },
   "outputs": [
    {
     "data": {
      "text/html": [
       "<div>\n",
       "<style scoped>\n",
       "    .dataframe tbody tr th:only-of-type {\n",
       "        vertical-align: middle;\n",
       "    }\n",
       "\n",
       "    .dataframe tbody tr th {\n",
       "        vertical-align: top;\n",
       "    }\n",
       "\n",
       "    .dataframe thead th {\n",
       "        text-align: right;\n",
       "    }\n",
       "</style>\n",
       "<table border=\"1\" class=\"dataframe\">\n",
       "  <thead>\n",
       "    <tr style=\"text-align: right;\">\n",
       "      <th></th>\n",
       "      <th>Type</th>\n",
       "      <th>Name of the ULB</th>\n",
       "      <th>Grade of Municipalities</th>\n",
       "      <th>Total</th>\n",
       "      <th>Male</th>\n",
       "      <th>Female</th>\n",
       "      <th>SC</th>\n",
       "      <th>ST</th>\n",
       "      <th>% of Women Population</th>\n",
       "      <th>% of SC Population</th>\n",
       "      <th>% of ST Population</th>\n",
       "    </tr>\n",
       "  </thead>\n",
       "  <tbody>\n",
       "    <tr>\n",
       "      <th>51</th>\n",
       "      <td>Municipalities</td>\n",
       "      <td>Mettupalayam</td>\n",
       "      <td>Selection</td>\n",
       "      <td>66595</td>\n",
       "      <td>33385</td>\n",
       "      <td>33210</td>\n",
       "      <td>8178</td>\n",
       "      <td>78</td>\n",
       "      <td>49.87</td>\n",
       "      <td>12.28</td>\n",
       "      <td>0.12</td>\n",
       "    </tr>\n",
       "    <tr>\n",
       "      <th>52</th>\n",
       "      <td>Municipalities</td>\n",
       "      <td>Valparai</td>\n",
       "      <td>Selection</td>\n",
       "      <td>95107</td>\n",
       "      <td>46961</td>\n",
       "      <td>48146</td>\n",
       "      <td>51661</td>\n",
       "      <td>1217</td>\n",
       "      <td>50.62</td>\n",
       "      <td>54.32</td>\n",
       "      <td>1.28</td>\n",
       "    </tr>\n",
       "    <tr>\n",
       "      <th>53</th>\n",
       "      <td>Municipalities</td>\n",
       "      <td>Udumalaipettai</td>\n",
       "      <td>Selection</td>\n",
       "      <td>59668</td>\n",
       "      <td>29330</td>\n",
       "      <td>30338</td>\n",
       "      <td>5566</td>\n",
       "      <td>10</td>\n",
       "      <td>50.84</td>\n",
       "      <td>9.33</td>\n",
       "      <td>0.02</td>\n",
       "    </tr>\n",
       "    <tr>\n",
       "      <th>54</th>\n",
       "      <td>Municipalities</td>\n",
       "      <td>Coonoor</td>\n",
       "      <td>Selection</td>\n",
       "      <td>50196</td>\n",
       "      <td>24828</td>\n",
       "      <td>25368</td>\n",
       "      <td>12461</td>\n",
       "      <td>122</td>\n",
       "      <td>50.54</td>\n",
       "      <td>24.82</td>\n",
       "      <td>0.24</td>\n",
       "    </tr>\n",
       "    <tr>\n",
       "      <th>55</th>\n",
       "      <td>Municipalities</td>\n",
       "      <td>Sivakasi</td>\n",
       "      <td>Selection</td>\n",
       "      <td>72168</td>\n",
       "      <td>36312</td>\n",
       "      <td>35856</td>\n",
       "      <td>6265</td>\n",
       "      <td>150</td>\n",
       "      <td>49.68</td>\n",
       "      <td>8.68</td>\n",
       "      <td>0.21</td>\n",
       "    </tr>\n",
       "    <tr>\n",
       "      <th>56</th>\n",
       "      <td>Municipalities</td>\n",
       "      <td>Virudhunagar</td>\n",
       "      <td>Selection</td>\n",
       "      <td>72081</td>\n",
       "      <td>35769</td>\n",
       "      <td>36312</td>\n",
       "      <td>4784</td>\n",
       "      <td>99</td>\n",
       "      <td>50.38</td>\n",
       "      <td>6.64</td>\n",
       "      <td>0.14</td>\n",
       "    </tr>\n",
       "    <tr>\n",
       "      <th>57</th>\n",
       "      <td>Municipalities</td>\n",
       "      <td>Chengalpattu</td>\n",
       "      <td>Grade-I</td>\n",
       "      <td>62582</td>\n",
       "      <td>31423</td>\n",
       "      <td>31159</td>\n",
       "      <td>9824</td>\n",
       "      <td>1111</td>\n",
       "      <td>49.79</td>\n",
       "      <td>15.70</td>\n",
       "      <td>1.78</td>\n",
       "    </tr>\n",
       "    <tr>\n",
       "      <th>58</th>\n",
       "      <td>Municipalities</td>\n",
       "      <td>Thiruvallur</td>\n",
       "      <td>Grade-I</td>\n",
       "      <td>45732</td>\n",
       "      <td>23034</td>\n",
       "      <td>22698</td>\n",
       "      <td>8480</td>\n",
       "      <td>288</td>\n",
       "      <td>49.63</td>\n",
       "      <td>18.54</td>\n",
       "      <td>0.63</td>\n",
       "    </tr>\n",
       "    <tr>\n",
       "      <th>59</th>\n",
       "      <td>Municipalities</td>\n",
       "      <td>Poonamallee</td>\n",
       "      <td>Grade-I</td>\n",
       "      <td>42604</td>\n",
       "      <td>22017</td>\n",
       "      <td>20587</td>\n",
       "      <td>7426</td>\n",
       "      <td>41</td>\n",
       "      <td>48.32</td>\n",
       "      <td>17.43</td>\n",
       "      <td>0.10</td>\n",
       "    </tr>\n",
       "    <tr>\n",
       "      <th>60</th>\n",
       "      <td>Municipalities</td>\n",
       "      <td>Panruti</td>\n",
       "      <td>Grade-I</td>\n",
       "      <td>55346</td>\n",
       "      <td>27855</td>\n",
       "      <td>27491</td>\n",
       "      <td>7700</td>\n",
       "      <td>25</td>\n",
       "      <td>49.67</td>\n",
       "      <td>13.91</td>\n",
       "      <td>0.05</td>\n",
       "    </tr>\n",
       "  </tbody>\n",
       "</table>\n",
       "</div>"
      ],
      "text/plain": [
       "              Type Name of the ULB Grade of Municipalities  Total   Male  \\\n",
       "51  Municipalities    Mettupalayam               Selection  66595  33385   \n",
       "52  Municipalities        Valparai               Selection  95107  46961   \n",
       "53  Municipalities  Udumalaipettai               Selection  59668  29330   \n",
       "54  Municipalities         Coonoor               Selection  50196  24828   \n",
       "55  Municipalities        Sivakasi               Selection  72168  36312   \n",
       "56  Municipalities    Virudhunagar               Selection  72081  35769   \n",
       "57  Municipalities    Chengalpattu                 Grade-I  62582  31423   \n",
       "58  Municipalities     Thiruvallur                 Grade-I  45732  23034   \n",
       "59  Municipalities     Poonamallee                 Grade-I  42604  22017   \n",
       "60  Municipalities         Panruti                 Grade-I  55346  27855   \n",
       "\n",
       "    Female     SC    ST  % of Women Population  % of SC Population  \\\n",
       "51   33210   8178    78                  49.87               12.28   \n",
       "52   48146  51661  1217                  50.62               54.32   \n",
       "53   30338   5566    10                  50.84                9.33   \n",
       "54   25368  12461   122                  50.54               24.82   \n",
       "55   35856   6265   150                  49.68                8.68   \n",
       "56   36312   4784    99                  50.38                6.64   \n",
       "57   31159   9824  1111                  49.79               15.70   \n",
       "58   22698   8480   288                  49.63               18.54   \n",
       "59   20587   7426    41                  48.32               17.43   \n",
       "60   27491   7700    25                  49.67               13.91   \n",
       "\n",
       "    % of ST Population  \n",
       "51                0.12  \n",
       "52                1.28  \n",
       "53                0.02  \n",
       "54                0.24  \n",
       "55                0.21  \n",
       "56                0.14  \n",
       "57                1.78  \n",
       "58                0.63  \n",
       "59                0.10  \n",
       "60                0.05  "
      ]
     },
     "execution_count": 11,
     "metadata": {},
     "output_type": "execute_result"
    }
   ],
   "source": [
    "df[51:61]"
   ]
  },
  {
   "cell_type": "code",
   "execution_count": 12,
   "id": "2bb5bb70-2632-4714-802f-d413b78bb9ec",
   "metadata": {
    "scrolled": true
   },
   "outputs": [
    {
     "data": {
      "text/plain": [
       "Index(['Type', 'Name of the ULB', 'Grade of Municipalities', 'Total', 'Male',\n",
       "       'Female', 'SC', 'ST', '% of Women Population', '% of SC Population',\n",
       "       '% of ST Population'],\n",
       "      dtype='object')"
      ]
     },
     "execution_count": 12,
     "metadata": {},
     "output_type": "execute_result"
    }
   ],
   "source": [
    "df.columns"
   ]
  },
  {
   "cell_type": "code",
   "execution_count": 15,
   "id": "d0307f8f-e163-4a12-8711-903fd1d375e6",
   "metadata": {
    "scrolled": true
   },
   "outputs": [
    {
     "data": {
      "text/plain": [
       "0      77178\n",
       "1      53676\n",
       "2      70969\n",
       "3      50564\n",
       "4      76653\n",
       "       ...  \n",
       "129     3426\n",
       "130     2627\n",
       "131      341\n",
       "132     2112\n",
       "133     1954\n",
       "Name: SC, Length: 134, dtype: int64"
      ]
     },
     "execution_count": 15,
     "metadata": {},
     "output_type": "execute_result"
    }
   ],
   "source": [
    "df['SC']"
   ]
  },
  {
   "cell_type": "code",
   "execution_count": 16,
   "id": "b30b4163-cf80-4f3d-b236-56679dce874f",
   "metadata": {},
   "outputs": [
    {
     "data": {
      "text/plain": [
       "0       535\n",
       "1      2064\n",
       "2      2991\n",
       "3      1696\n",
       "4      1345\n",
       "       ... \n",
       "129      20\n",
       "130      14\n",
       "131      27\n",
       "132       7\n",
       "133     198\n",
       "Name: ST, Length: 134, dtype: int64"
      ]
     },
     "execution_count": 16,
     "metadata": {},
     "output_type": "execute_result"
    }
   ],
   "source": [
    "df['ST']"
   ]
  },
  {
   "cell_type": "code",
   "execution_count": 1,
   "id": "56e8190f-e624-4dd0-979d-fe09428e7b09",
   "metadata": {},
   "outputs": [],
   "source": [
    "def testing(**kwargs):\n",
    "    for key,value in kwargs.items():\n",
    "        print(key + '-' + str(value))"
   ]
  },
  {
   "cell_type": "code",
   "execution_count": 3,
   "id": "e111077e-966b-413c-9835-16a2b7460ebf",
   "metadata": {},
   "outputs": [
    {
     "name": "stdout",
     "output_type": "stream",
     "text": [
      "India-1000\n",
      "Singapore-2000\n",
      "Japan-3000\n"
     ]
    }
   ],
   "source": [
    "input = {\"India\":1000,\"Singapore\":2000,\"Japan\":3000}\n",
    "testing(**input)"
   ]
  },
  {
   "cell_type": "code",
   "execution_count": null,
   "id": "54d6591b-fc26-4a36-ab36-168d67b0eb36",
   "metadata": {},
   "outputs": [],
   "source": []
  },
  {
   "cell_type": "code",
   "execution_count": null,
   "id": "57abfdcb-8fc9-4593-90cc-b1e8e996d55e",
   "metadata": {},
   "outputs": [],
   "source": []
  },
  {
   "cell_type": "code",
   "execution_count": null,
   "id": "25602d5e-59f8-46c1-9bb7-a9b3fdbdefb6",
   "metadata": {},
   "outputs": [],
   "source": []
  },
  {
   "cell_type": "code",
   "execution_count": 5,
   "id": "3feaf1c7-588c-46ad-a253-5cba8cebf0e2",
   "metadata": {},
   "outputs": [
    {
     "ename": "ValueError",
     "evalue": "invalid literal for int() with base 10: '-f'",
     "output_type": "error",
     "traceback": [
      "\u001b[1;31m---------------------------------------------------------------------------\u001b[0m",
      "\u001b[1;31mValueError\u001b[0m                                Traceback (most recent call last)",
      "Cell \u001b[1;32mIn[5], line 30\u001b[0m\n\u001b[0;32m     27\u001b[0m \u001b[38;5;28;01mif\u001b[39;00m \u001b[38;5;18m__name__\u001b[39m \u001b[38;5;241m==\u001b[39m \u001b[38;5;124m'\u001b[39m\u001b[38;5;124m__main__\u001b[39m\u001b[38;5;124m'\u001b[39m:\n\u001b[0;32m     29\u001b[0m     numbers_str \u001b[38;5;241m=\u001b[39m sys\u001b[38;5;241m.\u001b[39margv[\u001b[38;5;241m1\u001b[39m:]  \n\u001b[1;32m---> 30\u001b[0m     numbers \u001b[38;5;241m=\u001b[39m [\u001b[38;5;28mint\u001b[39m(num) \u001b[38;5;28;01mfor\u001b[39;00m num \u001b[38;5;129;01min\u001b[39;00m numbers_str]\n\u001b[0;32m     32\u001b[0m     \u001b[38;5;66;03m# print(\"List of numbers:\", numbers)\u001b[39;00m\n\u001b[0;32m     33\u001b[0m     \u001b[38;5;28mprint\u001b[39m(sum_of_list(numbers)) \n",
      "Cell \u001b[1;32mIn[5], line 30\u001b[0m, in \u001b[0;36m<listcomp>\u001b[1;34m(.0)\u001b[0m\n\u001b[0;32m     27\u001b[0m \u001b[38;5;28;01mif\u001b[39;00m \u001b[38;5;18m__name__\u001b[39m \u001b[38;5;241m==\u001b[39m \u001b[38;5;124m'\u001b[39m\u001b[38;5;124m__main__\u001b[39m\u001b[38;5;124m'\u001b[39m:\n\u001b[0;32m     29\u001b[0m     numbers_str \u001b[38;5;241m=\u001b[39m sys\u001b[38;5;241m.\u001b[39margv[\u001b[38;5;241m1\u001b[39m:]  \n\u001b[1;32m---> 30\u001b[0m     numbers \u001b[38;5;241m=\u001b[39m [\u001b[38;5;28mint\u001b[39m(num) \u001b[38;5;28;01mfor\u001b[39;00m num \u001b[38;5;129;01min\u001b[39;00m numbers_str]\n\u001b[0;32m     32\u001b[0m     \u001b[38;5;66;03m# print(\"List of numbers:\", numbers)\u001b[39;00m\n\u001b[0;32m     33\u001b[0m     \u001b[38;5;28mprint\u001b[39m(sum_of_list(numbers)) \n",
      "\u001b[1;31mValueError\u001b[0m: invalid literal for int() with base 10: '-f'"
     ]
    }
   ],
   "source": [
    "## Programming Assignment 0\n",
    "## Practice question for automatic grading\n",
    "\n",
    "## Do not use any additional libraries\n",
    "import sys\n",
    "\n",
    "\n",
    "## Problem: Write a function that takes a list of integers as\n",
    "## and returns the sum of all the integers in the list.\n",
    "\n",
    "def sum_of_list(lst):\n",
    "    ## Remove the pass statement and write your code here\n",
    "    ## CODEBASE:S01 Start\n",
    "    sum = 0\n",
    "    for i in lst:\n",
    "        sum += i\n",
    "    return sum\n",
    "\n",
    "\n",
    "    ## CODEBASE:S01 End\n",
    "\n",
    " \n",
    "\n",
    "\n",
    "## Skeleton code for testing\n",
    "## DO NOT MODIFY, Please maintain this structure\n",
    "if __name__ == '__main__':\n",
    "\n",
    "    numbers_str = sys.argv[1:]  \n",
    "    numbers = [int(num) for num in numbers_str]\n",
    "\n",
    "    # print(\"List of numbers:\", numbers)\n",
    "    print(sum_of_list(numbers)) \n",
    "    \n",
    "    \"\"\" End to call \"\"\"\n",
    "\n",
    "\n"
   ]
  },
  {
   "cell_type": "code",
   "execution_count": null,
   "id": "9f65c9a1-0872-4c56-ba37-229e41eabe23",
   "metadata": {},
   "outputs": [],
   "source": []
  },
  {
   "cell_type": "code",
   "execution_count": null,
   "id": "cb520fd4-6a70-4123-9a91-4c2aa121fc2f",
   "metadata": {},
   "outputs": [],
   "source": [
    "import requests\n",
    "from bs4 import BeautifulSoup\n",
    "\n",
    "\n",
    "# The URL of the web page will provide links to all video lectures. \n",
    "\n",
    "\n",
    "URL = \"https://g29.tcsion.com/LX/content_players/content_home_new?LaunchFrom=iHUB&TargetOrgid=32719&User-Agent=Computer&Userid=20986683&action=/content&app_id=9519&c_id=digital-lecture-iit-kharagpur-ai4icps-certificate-1541-32719&c_id=digital-lecture-iit-kharagpur-ai4icps-certificate-1541-32719&comm_target_orgId=32719&community_id=141428&content_player=true&del_type=Courses/Batches&eForm=Y&lan=en&lan_id=1&logout=http://www.tcsion.com&newWindow=Y&org_id=1016&returnUrl=https://www.tcsion.com/&serviceid=13&sub_eng_key=LX21511704933618000840AE1XJO8779691&type=iEvolve\"\n",
    "\n",
    "def get_video_links():\n",
    "\t\n",
    "\t# create response object\n",
    "\tresponse = requests.get(URL)\n",
    "\t\n",
    "\t# create a beautiful-soup object\n",
    "\tsoup = BeautifulSoup(response.content,'html.parser')\n",
    "\t\n",
    "\t# find all links on a given web-page\n",
    "\ttotal_links = soup.findAll('a')\n",
    "\n",
    "\t# filter the link sending with .mp4\n",
    "\tvideo_links = [URL + link['href'] for link in total_links if link['href'].endswith('mp4')]\n",
    "\n",
    "\treturn video_links\n",
    "\n",
    "\n",
    "def download_videos(extracted_video_links):\n",
    "\n",
    "\tfor link in extracted_video_links:\n",
    "\n",
    "\t\t# iterate through all links in video_links and download them one by one\n",
    "\t\t\n",
    "\t\t# obtain the filename by splitting the URL \n",
    "\t\tname_of_file = link.split('/')[-1]\n",
    "\n",
    "\t\tprint( \"Downloading file:%s\"%name_of_file)\n",
    "\t\t\n",
    "\t\t# create a response object\n",
    "\t\tresponse = requests.get(link, stream = True)\n",
    "\t\t\n",
    "\t\t# download started\n",
    "\t\twith open(name_of_file, 'wb') as f:\n",
    "\t\t\tfor chunk in response.iter_content(chunk_size = 1024*1024):\n",
    "\t\t\t\tif chunk:\n",
    "\t\t\t\t\tf.write(chunk)\n",
    "\t\t\n",
    "\t\tprint( \"%s downloaded!\\n\"%name_of_file )\n",
    "\n",
    "\tprint (\"All videos downloaded!\")\n",
    "\treturn\n",
    "\n",
    "\n",
    "if __name__ == \"__main__\":\n",
    "\n",
    "\t# extracting all video links\n",
    "\textracted_video_links = get_video_links()\n",
    "\n",
    "\t# download all videos using their URLs\n",
    "\tdownload_videos(extracted_video_links)\n",
    "\t"
   ]
  },
  {
   "cell_type": "code",
   "execution_count": 3,
   "id": "da50ee87-3a5b-4e79-81c6-6440fa0f7253",
   "metadata": {},
   "outputs": [
    {
     "data": {
      "text/plain": [
       "[5, 7, 9]"
      ]
     },
     "execution_count": 3,
     "metadata": {},
     "output_type": "execute_result"
    }
   ],
   "source": [
    "a = [1,2,3]\n",
    "b = [4,5,6]\n",
    "c = a+b\n",
    "c\n",
    "d = [a[0]+b[0],a[1]+b[1],a[2]+b[2]]\n",
    "d"
   ]
  },
  {
   "cell_type": "code",
   "execution_count": 23,
   "id": "cb7652d1-e5a3-4830-a4a5-75f53cea0e15",
   "metadata": {},
   "outputs": [
    {
     "data": {
      "text/plain": [
       "array([ 6,  8, 10, 12])"
      ]
     },
     "execution_count": 23,
     "metadata": {},
     "output_type": "execute_result"
    }
   ],
   "source": [
    "import numpy as np\n",
    "c = np.array([1,2,3,4])\n",
    "d = np.array([5,6,7,8])\n",
    "e = c + d\n",
    "e"
   ]
  },
  {
   "cell_type": "code",
   "execution_count": 29,
   "id": "50df1442-9f0f-412f-9b0a-64d200442212",
   "metadata": {},
   "outputs": [
    {
     "data": {
      "text/plain": [
       "10"
      ]
     },
     "execution_count": 29,
     "metadata": {},
     "output_type": "execute_result"
    }
   ],
   "source": [
    "op = np.sum(c, axis=0)\n",
    "op"
   ]
  },
  {
   "cell_type": "code",
   "execution_count": null,
   "id": "2b6dcc0d-1ed7-4249-9a13-63b52d337185",
   "metadata": {},
   "outputs": [],
   "source": []
  },
  {
   "cell_type": "code",
   "execution_count": null,
   "id": "78bcf9a1-3fa3-4704-88e4-2de1a8a7a899",
   "metadata": {},
   "outputs": [],
   "source": []
  },
  {
   "cell_type": "code",
   "execution_count": 45,
   "id": "9cd8366c-3aff-415f-8262-f74a901371aa",
   "metadata": {},
   "outputs": [
    {
     "data": {
      "text/plain": [
       "array([[ 1,  2,  3,  4],\n",
       "       [ 5,  6,  7,  8],\n",
       "       [ 9, 10, 11, 12]])"
      ]
     },
     "execution_count": 45,
     "metadata": {},
     "output_type": "execute_result"
    }
   ],
   "source": [
    "ary = np.arange(1,13,1).reshape(3,4)\n",
    "ary"
   ]
  },
  {
   "cell_type": "code",
   "execution_count": 47,
   "id": "5d490787-4bc6-4b8a-b490-4ce947e73347",
   "metadata": {},
   "outputs": [
    {
     "data": {
      "text/plain": [
       "(3, 4)"
      ]
     },
     "execution_count": 47,
     "metadata": {},
     "output_type": "execute_result"
    }
   ],
   "source": [
    "ary.shape"
   ]
  },
  {
   "cell_type": "code",
   "execution_count": 49,
   "id": "b794d64a-dbb2-482f-a933-44c66e2b58d1",
   "metadata": {},
   "outputs": [
    {
     "data": {
      "text/html": [
       "<div>\n",
       "<style scoped>\n",
       "    .dataframe tbody tr th:only-of-type {\n",
       "        vertical-align: middle;\n",
       "    }\n",
       "\n",
       "    .dataframe tbody tr th {\n",
       "        vertical-align: top;\n",
       "    }\n",
       "\n",
       "    .dataframe thead th {\n",
       "        text-align: right;\n",
       "    }\n",
       "</style>\n",
       "<table border=\"1\" class=\"dataframe\">\n",
       "  <thead>\n",
       "    <tr style=\"text-align: right;\">\n",
       "      <th></th>\n",
       "      <th>Saran</th>\n",
       "      <th>barath</th>\n",
       "    </tr>\n",
       "  </thead>\n",
       "  <tbody>\n",
       "    <tr>\n",
       "      <th>Chicken</th>\n",
       "      <td>Like</td>\n",
       "      <td>NotLike</td>\n",
       "    </tr>\n",
       "    <tr>\n",
       "      <th>Mutton</th>\n",
       "      <td>NotLike</td>\n",
       "      <td>Like</td>\n",
       "    </tr>\n",
       "  </tbody>\n",
       "</table>\n",
       "</div>"
      ],
      "text/plain": [
       "           Saran   barath\n",
       "Chicken     Like  NotLike\n",
       "Mutton   NotLike     Like"
      ]
     },
     "execution_count": 49,
     "metadata": {},
     "output_type": "execute_result"
    }
   ],
   "source": [
    "import pandas as pd\n",
    "df = pd.DataFrame({'Saran':['Like','NotLike'],'barath':['NotLike','Like']},index=['Chicken','Mutton'])\n",
    "df"
   ]
  },
  {
   "cell_type": "code",
   "execution_count": null,
   "id": "eb5189e6-88d7-4550-abfd-432611390dc4",
   "metadata": {},
   "outputs": [],
   "source": []
  },
  {
   "cell_type": "code",
   "execution_count": 3,
   "id": "96d50d57-4577-41a8-9813-30e03af46e3c",
   "metadata": {},
   "outputs": [
    {
     "ename": "NameError",
     "evalue": "name 'initial_mse' is not defined",
     "output_type": "error",
     "traceback": [
      "\u001b[1;31m---------------------------------------------------------------------------\u001b[0m",
      "\u001b[1;31mNameError\u001b[0m                                 Traceback (most recent call last)",
      "Cell \u001b[1;32mIn[3], line 21\u001b[0m\n\u001b[0;32m     13\u001b[0m   \u001b[38;5;28;01mreturn\u001b[39;00m np\u001b[38;5;241m.\u001b[39mmean((y_pred \u001b[38;5;241m-\u001b[39m y_true)\u001b[38;5;241m*\u001b[39m\u001b[38;5;241m*\u001b[39m\u001b[38;5;241m2\u001b[39m)\n\u001b[0;32m     15\u001b[0m \u001b[38;5;66;03m# Gradient descent iterations\u001b[39;00m\n\u001b[0;32m     16\u001b[0m \u001b[38;5;66;03m# ...\u001b[39;00m\n\u001b[0;32m     17\u001b[0m \n\u001b[0;32m     18\u001b[0m \u001b[38;5;66;03m# Final table\u001b[39;00m\n\u001b[0;32m     19\u001b[0m \u001b[38;5;66;03m#print(\"w0\\tw1\\tw2\")\u001b[39;00m\n\u001b[0;32m     20\u001b[0m \u001b[38;5;66;03m#print(f\"{w0:.6f}\\t{w1:.6f}\\t{w2:.6f}\")\u001b[39;00m\n\u001b[1;32m---> 21\u001b[0m \u001b[38;5;28mprint\u001b[39m(\u001b[38;5;124m\"\u001b[39m\u001b[38;5;124mInitial MSE:\u001b[39m\u001b[38;5;124m\"\u001b[39m, initial_mse)\n\u001b[0;32m     22\u001b[0m \u001b[38;5;28mprint\u001b[39m(\u001b[38;5;124m\"\u001b[39m\u001b[38;5;124mFinal MSE:\u001b[39m\u001b[38;5;124m\"\u001b[39m, final_mse)\n",
      "\u001b[1;31mNameError\u001b[0m: name 'initial_mse' is not defined"
     ]
    }
   ],
   "source": [
    "import numpy as np\n",
    "\n",
    "# Data\n",
    "X = np.array([[60, 22], [67, 24], [71, 15], [75, 20], [78, 16]])\n",
    "y = np.array([140, 159, 192, 200, 212])\n",
    "\n",
    "# Initial weights and learning rate\n",
    "w = np.array([0, 1, 1])\n",
    "alpha = 0.0002\n",
    "\n",
    "# Function to calculate MSE\n",
    "def mse(y_pred, y_true):\n",
    "  return np.mean((y_pred - y_true)**2)\n",
    "\n",
    "# Gradient descent iterations\n",
    "# ...\n",
    "\n",
    "# Final table\n",
    "#print(\"w0\\tw1\\tw2\")\n",
    "#print(f\"{w0:.6f}\\t{w1:.6f}\\t{w2:.6f}\")\n",
    "print(\"Initial MSE:\", initial_mse)\n",
    "print(\"Final MSE:\", final_mse)\n"
   ]
  },
  {
   "cell_type": "code",
   "execution_count": 5,
   "id": "d42bf219-bd04-42df-b638-0ae617c054c4",
   "metadata": {},
   "outputs": [
    {
     "name": "stdout",
     "output_type": "stream",
     "text": [
      "Weights: [-0.0392628  -0.0392628   3.22042922 -2.33551519]\n",
      "Final MSE: 7.315539215887021\n"
     ]
    }
   ],
   "source": [
    "import numpy as np\n",
    "\n",
    "def gradient_descent(X, y, learning_rate, num_iterations):\n",
    "  \"\"\"\n",
    "  Performs gradient descent for linear regression.\n",
    "\n",
    "  Args:\n",
    "    X: Feature matrix (n_samples, n_features)\n",
    "    y: Target values (n_samples,)\n",
    "    learning_rate: Learning rate\n",
    "    num_iterations: Number of iterations\n",
    "\n",
    "  Returns:\n",
    "    weights: Final weights\n",
    "  \"\"\"\n",
    "\n",
    "  n_samples, n_features = X.shape\n",
    "  weights = np.zeros(n_features + 1)  # Add bias term\n",
    "\n",
    "  for _ in range(num_iterations):\n",
    "    y_pred = np.dot(X, weights[1:]) + weights[0]\n",
    "    error = y_pred - y\n",
    "\n",
    "    # Update weights\n",
    "    weights[1:] -= (learning_rate * (1/n_samples) * np.dot(X.T, error))\n",
    "    weights[0] -= (learning_rate * (1/n_samples) * np.sum(error))\n",
    "\n",
    "  return weights\n",
    "\n",
    "# Data\n",
    "X = np.array([[60, 22], [67, 24], [71, 15], [75, 20], [78, 16]])\n",
    "y = np.array([140, 159, 192, 200, 212])\n",
    "\n",
    "# Add bias term to X\n",
    "X = np.insert(X, 0, 1, axis=1)\n",
    "\n",
    "# Hyperparameters\n",
    "learning_rate = 0.0002\n",
    "num_iterations = 2000\n",
    "\n",
    "# Perform gradient descent\n",
    "weights = gradient_descent(X, y, learning_rate, num_iterations)\n",
    "\n",
    "print(\"Weights:\", weights)\n",
    "\n",
    "# Calculate final MSE\n",
    "y_pred = np.dot(X, weights[1:]) + weights[0]\n",
    "mse = np.mean((y_pred - y)**2)\n",
    "print(\"Final MSE:\", mse)\n"
   ]
  },
  {
   "cell_type": "code",
   "execution_count": 7,
   "id": "200bad8c-84ae-4290-a2bf-4adda304706a",
   "metadata": {},
   "outputs": [
    {
     "ename": "ValueError",
     "evalue": "shapes (5,3) and (2,) not aligned: 3 (dim 1) != 2 (dim 0)",
     "output_type": "error",
     "traceback": [
      "\u001b[1;31m---------------------------------------------------------------------------\u001b[0m",
      "\u001b[1;31mValueError\u001b[0m                                Traceback (most recent call last)",
      "Cell \u001b[1;32mIn[7], line 49\u001b[0m\n\u001b[0;32m     46\u001b[0m \u001b[38;5;28;01mdef\u001b[39;00m \u001b[38;5;21mmse\u001b[39m(y_true, y_pred):\n\u001b[0;32m     47\u001b[0m     \u001b[38;5;28;01mreturn\u001b[39;00m np\u001b[38;5;241m.\u001b[39mmean((y_true \u001b[38;5;241m-\u001b[39m y_pred) \u001b[38;5;241m*\u001b[39m\u001b[38;5;241m*\u001b[39m \u001b[38;5;241m2\u001b[39m)\n\u001b[1;32m---> 49\u001b[0m initial_y_pred \u001b[38;5;241m=\u001b[39m np\u001b[38;5;241m.\u001b[39mdot(X, initial_weights[\u001b[38;5;241m1\u001b[39m:]) \u001b[38;5;241m+\u001b[39m initial_weights[\u001b[38;5;241m0\u001b[39m]\n\u001b[0;32m     50\u001b[0m initial_mse \u001b[38;5;241m=\u001b[39m mse(y, initial_y_pred)\n\u001b[0;32m     52\u001b[0m final_y_pred \u001b[38;5;241m=\u001b[39m np\u001b[38;5;241m.\u001b[39mdot(X, weights[\u001b[38;5;241m1\u001b[39m:]) \u001b[38;5;241m+\u001b[39m weights[\u001b[38;5;241m0\u001b[39m]\n",
      "File \u001b[1;32m<__array_function__ internals>:200\u001b[0m, in \u001b[0;36mdot\u001b[1;34m(*args, **kwargs)\u001b[0m\n",
      "\u001b[1;31mValueError\u001b[0m: shapes (5,3) and (2,) not aligned: 3 (dim 1) != 2 (dim 0)"
     ]
    }
   ],
   "source": [
    "import numpy as np\n",
    "\n",
    "def gradient_descent(X, y, learning_rate, num_iterations):\n",
    "    \"\"\"\n",
    "    Performs gradient descent for linear regression.\n",
    "\n",
    "    Args:\n",
    "        X: Feature matrix (n_samples, n_features)\n",
    "        y: Target values (n_samples,)\n",
    "        learning_rate: Learning rate\n",
    "        num_iterations: Number of iterations\n",
    "\n",
    "    Returns:\n",
    "        weights: Final weights\n",
    "    \"\"\"\n",
    "\n",
    "    n_samples, n_features = X.shape\n",
    "    weights = np.zeros(n_features + 1)  # Add bias term\n",
    "\n",
    "    for _ in range(num_iterations):\n",
    "        y_pred = np.dot(X, weights[1:]) + weights[0]\n",
    "        error = y_pred - y\n",
    "\n",
    "        # Update weights\n",
    "        weights[1:] -= (learning_rate * (1/n_samples) * np.dot(X.T, error))\n",
    "        weights[0] -= (learning_rate * (1/n_samples) * np.sum(error))\n",
    "\n",
    "    return weights\n",
    "\n",
    "# Data\n",
    "X = np.array([[60, 22], [67, 24], [71, 15], [75, 20], [78, 16]])\n",
    "y = np.array([140, 159, 192, 200, 212])\n",
    "\n",
    "# Add bias term to X\n",
    "X = np.insert(X, 0, 1, axis=1)\n",
    "\n",
    "# Initial weights and learning rate\n",
    "initial_weights = np.array([0, 1, 1])\n",
    "learning_rate = 0.0002\n",
    "num_iterations = 2\n",
    "\n",
    "# Perform gradient descent for 2 iterations\n",
    "weights = gradient_descent(X, y, learning_rate, num_iterations)\n",
    "\n",
    "# Calculate initial and final MSE\n",
    "def mse(y_true, y_pred):\n",
    "    return np.mean((y_true - y_pred) ** 2)\n",
    "\n",
    "initial_y_pred = np.dot(X, initial_weights[1:]) + initial_weights[0]\n",
    "initial_mse = mse(y, initial_y_pred)\n",
    "\n",
    "final_y_pred = np.dot(X, weights[1:]) + weights[0]\n",
    "final_mse = mse(y, final_y_pred)\n",
    "\n",
    "print(\"Initial weights:\", initial_weights)\n",
    "print(\"Weights after 2 iterations:\", weights)\n",
    "print(\"Initial MSE:\", initial_mse)\n",
    "print(\"Final MSE:\", final_mse)\n"
   ]
  },
  {
   "cell_type": "code",
   "execution_count": 1,
   "id": "c04ec717-6864-4bcb-9ad0-fcfccb2c8727",
   "metadata": {
    "scrolled": true
   },
   "outputs": [
    {
     "data": {
      "text/html": [
       "<div>\n",
       "<style scoped>\n",
       "    .dataframe tbody tr th:only-of-type {\n",
       "        vertical-align: middle;\n",
       "    }\n",
       "\n",
       "    .dataframe tbody tr th {\n",
       "        vertical-align: top;\n",
       "    }\n",
       "\n",
       "    .dataframe thead th {\n",
       "        text-align: right;\n",
       "    }\n",
       "</style>\n",
       "<table border=\"1\" class=\"dataframe\">\n",
       "  <thead>\n",
       "    <tr style=\"text-align: right;\">\n",
       "      <th></th>\n",
       "      <th>sepal_length</th>\n",
       "      <th>sepal_width</th>\n",
       "      <th>petal_length</th>\n",
       "      <th>petal_width</th>\n",
       "      <th>species</th>\n",
       "    </tr>\n",
       "  </thead>\n",
       "  <tbody>\n",
       "    <tr>\n",
       "      <th>0</th>\n",
       "      <td>5.1</td>\n",
       "      <td>3.5</td>\n",
       "      <td>1.4</td>\n",
       "      <td>0.2</td>\n",
       "      <td>Iris-setosa</td>\n",
       "    </tr>\n",
       "    <tr>\n",
       "      <th>1</th>\n",
       "      <td>4.9</td>\n",
       "      <td>3.0</td>\n",
       "      <td>1.4</td>\n",
       "      <td>0.2</td>\n",
       "      <td>Iris-setosa</td>\n",
       "    </tr>\n",
       "    <tr>\n",
       "      <th>2</th>\n",
       "      <td>4.7</td>\n",
       "      <td>3.2</td>\n",
       "      <td>1.3</td>\n",
       "      <td>0.2</td>\n",
       "      <td>Iris-setosa</td>\n",
       "    </tr>\n",
       "    <tr>\n",
       "      <th>3</th>\n",
       "      <td>4.6</td>\n",
       "      <td>3.1</td>\n",
       "      <td>1.5</td>\n",
       "      <td>0.2</td>\n",
       "      <td>Iris-setosa</td>\n",
       "    </tr>\n",
       "    <tr>\n",
       "      <th>4</th>\n",
       "      <td>5.0</td>\n",
       "      <td>3.6</td>\n",
       "      <td>1.4</td>\n",
       "      <td>0.2</td>\n",
       "      <td>Iris-setosa</td>\n",
       "    </tr>\n",
       "    <tr>\n",
       "      <th>...</th>\n",
       "      <td>...</td>\n",
       "      <td>...</td>\n",
       "      <td>...</td>\n",
       "      <td>...</td>\n",
       "      <td>...</td>\n",
       "    </tr>\n",
       "    <tr>\n",
       "      <th>145</th>\n",
       "      <td>6.7</td>\n",
       "      <td>3.0</td>\n",
       "      <td>5.2</td>\n",
       "      <td>2.3</td>\n",
       "      <td>Iris-virginica</td>\n",
       "    </tr>\n",
       "    <tr>\n",
       "      <th>146</th>\n",
       "      <td>6.3</td>\n",
       "      <td>2.5</td>\n",
       "      <td>5.0</td>\n",
       "      <td>1.9</td>\n",
       "      <td>Iris-virginica</td>\n",
       "    </tr>\n",
       "    <tr>\n",
       "      <th>147</th>\n",
       "      <td>6.5</td>\n",
       "      <td>3.0</td>\n",
       "      <td>5.2</td>\n",
       "      <td>2.0</td>\n",
       "      <td>Iris-virginica</td>\n",
       "    </tr>\n",
       "    <tr>\n",
       "      <th>148</th>\n",
       "      <td>6.2</td>\n",
       "      <td>3.4</td>\n",
       "      <td>5.4</td>\n",
       "      <td>2.3</td>\n",
       "      <td>Iris-virginica</td>\n",
       "    </tr>\n",
       "    <tr>\n",
       "      <th>149</th>\n",
       "      <td>5.9</td>\n",
       "      <td>3.0</td>\n",
       "      <td>5.1</td>\n",
       "      <td>1.8</td>\n",
       "      <td>Iris-virginica</td>\n",
       "    </tr>\n",
       "  </tbody>\n",
       "</table>\n",
       "<p>150 rows × 5 columns</p>\n",
       "</div>"
      ],
      "text/plain": [
       "     sepal_length  sepal_width  petal_length  petal_width         species\n",
       "0             5.1          3.5           1.4          0.2     Iris-setosa\n",
       "1             4.9          3.0           1.4          0.2     Iris-setosa\n",
       "2             4.7          3.2           1.3          0.2     Iris-setosa\n",
       "3             4.6          3.1           1.5          0.2     Iris-setosa\n",
       "4             5.0          3.6           1.4          0.2     Iris-setosa\n",
       "..            ...          ...           ...          ...             ...\n",
       "145           6.7          3.0           5.2          2.3  Iris-virginica\n",
       "146           6.3          2.5           5.0          1.9  Iris-virginica\n",
       "147           6.5          3.0           5.2          2.0  Iris-virginica\n",
       "148           6.2          3.4           5.4          2.3  Iris-virginica\n",
       "149           5.9          3.0           5.1          1.8  Iris-virginica\n",
       "\n",
       "[150 rows x 5 columns]"
      ]
     },
     "execution_count": 1,
     "metadata": {},
     "output_type": "execute_result"
    }
   ],
   "source": [
    "import pandas as pd\n",
    "df = pd.read_csv(\"IRIS.csv\")\n",
    "df"
   ]
  },
  {
   "cell_type": "code",
   "execution_count": 3,
   "id": "6bc981e4-66a8-4bd9-aac6-060a4df3dce3",
   "metadata": {},
   "outputs": [
    {
     "data": {
      "text/plain": [
       "(150, 5)"
      ]
     },
     "execution_count": 3,
     "metadata": {},
     "output_type": "execute_result"
    }
   ],
   "source": [
    "df.shape"
   ]
  },
  {
   "cell_type": "code",
   "execution_count": 5,
   "id": "2210d8f1-d57b-41fb-87dd-f2bf6d0a83b1",
   "metadata": {},
   "outputs": [
    {
     "data": {
      "text/plain": [
       "0         Iris-setosa\n",
       "1         Iris-setosa\n",
       "2         Iris-setosa\n",
       "3         Iris-setosa\n",
       "4         Iris-setosa\n",
       "            ...      \n",
       "145    Iris-virginica\n",
       "146    Iris-virginica\n",
       "147    Iris-virginica\n",
       "148    Iris-virginica\n",
       "149    Iris-virginica\n",
       "Name: species, Length: 150, dtype: object"
      ]
     },
     "execution_count": 5,
     "metadata": {},
     "output_type": "execute_result"
    }
   ],
   "source": [
    "a = df[\"species\"]\n",
    "a"
   ]
  },
  {
   "cell_type": "code",
   "execution_count": 7,
   "id": "29715ffa-248c-42c1-9527-0935b66c63fb",
   "metadata": {},
   "outputs": [
    {
     "data": {
      "text/plain": [
       "0      0.4\n",
       "1      0.4\n",
       "2      0.4\n",
       "3      0.4\n",
       "4      0.4\n",
       "      ... \n",
       "145    4.6\n",
       "146    3.8\n",
       "147    4.0\n",
       "148    4.6\n",
       "149    3.6\n",
       "Name: petal_width, Length: 150, dtype: float64"
      ]
     },
     "execution_count": 7,
     "metadata": {},
     "output_type": "execute_result"
    }
   ],
   "source": [
    "b = df[\"petal_width\"]*2\n",
    "b"
   ]
  },
  {
   "cell_type": "code",
   "execution_count": 17,
   "id": "8554b9c3-bbed-45a5-a15a-656a1776fdee",
   "metadata": {},
   "outputs": [
    {
     "data": {
      "text/html": [
       "<div>\n",
       "<style scoped>\n",
       "    .dataframe tbody tr th:only-of-type {\n",
       "        vertical-align: middle;\n",
       "    }\n",
       "\n",
       "    .dataframe tbody tr th {\n",
       "        vertical-align: top;\n",
       "    }\n",
       "\n",
       "    .dataframe thead th {\n",
       "        text-align: right;\n",
       "    }\n",
       "</style>\n",
       "<table border=\"1\" class=\"dataframe\">\n",
       "  <thead>\n",
       "    <tr style=\"text-align: right;\">\n",
       "      <th></th>\n",
       "      <th>petal_width</th>\n",
       "      <th>species</th>\n",
       "      <th>petal_length</th>\n",
       "    </tr>\n",
       "  </thead>\n",
       "  <tbody>\n",
       "    <tr>\n",
       "      <th>0</th>\n",
       "      <td>0.2</td>\n",
       "      <td>Iris-setosa</td>\n",
       "      <td>1.4</td>\n",
       "    </tr>\n",
       "    <tr>\n",
       "      <th>1</th>\n",
       "      <td>0.2</td>\n",
       "      <td>Iris-setosa</td>\n",
       "      <td>1.4</td>\n",
       "    </tr>\n",
       "    <tr>\n",
       "      <th>2</th>\n",
       "      <td>0.2</td>\n",
       "      <td>Iris-setosa</td>\n",
       "      <td>1.3</td>\n",
       "    </tr>\n",
       "    <tr>\n",
       "      <th>3</th>\n",
       "      <td>0.2</td>\n",
       "      <td>Iris-setosa</td>\n",
       "      <td>1.5</td>\n",
       "    </tr>\n",
       "    <tr>\n",
       "      <th>4</th>\n",
       "      <td>0.2</td>\n",
       "      <td>Iris-setosa</td>\n",
       "      <td>1.4</td>\n",
       "    </tr>\n",
       "    <tr>\n",
       "      <th>...</th>\n",
       "      <td>...</td>\n",
       "      <td>...</td>\n",
       "      <td>...</td>\n",
       "    </tr>\n",
       "    <tr>\n",
       "      <th>145</th>\n",
       "      <td>2.3</td>\n",
       "      <td>Iris-virginica</td>\n",
       "      <td>5.2</td>\n",
       "    </tr>\n",
       "    <tr>\n",
       "      <th>146</th>\n",
       "      <td>1.9</td>\n",
       "      <td>Iris-virginica</td>\n",
       "      <td>5.0</td>\n",
       "    </tr>\n",
       "    <tr>\n",
       "      <th>147</th>\n",
       "      <td>2.0</td>\n",
       "      <td>Iris-virginica</td>\n",
       "      <td>5.2</td>\n",
       "    </tr>\n",
       "    <tr>\n",
       "      <th>148</th>\n",
       "      <td>2.3</td>\n",
       "      <td>Iris-virginica</td>\n",
       "      <td>5.4</td>\n",
       "    </tr>\n",
       "    <tr>\n",
       "      <th>149</th>\n",
       "      <td>1.8</td>\n",
       "      <td>Iris-virginica</td>\n",
       "      <td>5.1</td>\n",
       "    </tr>\n",
       "  </tbody>\n",
       "</table>\n",
       "<p>150 rows × 3 columns</p>\n",
       "</div>"
      ],
      "text/plain": [
       "     petal_width         species  petal_length\n",
       "0            0.2     Iris-setosa           1.4\n",
       "1            0.2     Iris-setosa           1.4\n",
       "2            0.2     Iris-setosa           1.3\n",
       "3            0.2     Iris-setosa           1.5\n",
       "4            0.2     Iris-setosa           1.4\n",
       "..           ...             ...           ...\n",
       "145          2.3  Iris-virginica           5.2\n",
       "146          1.9  Iris-virginica           5.0\n",
       "147          2.0  Iris-virginica           5.2\n",
       "148          2.3  Iris-virginica           5.4\n",
       "149          1.8  Iris-virginica           5.1\n",
       "\n",
       "[150 rows x 3 columns]"
      ]
     },
     "execution_count": 17,
     "metadata": {},
     "output_type": "execute_result"
    }
   ],
   "source": [
    "c = df[[\"petal_width\",\"species\",\"petal_length\"]]\n",
    "c"
   ]
  },
  {
   "cell_type": "code",
   "execution_count": 23,
   "id": "584dff34-8c55-40f4-bc2a-99b1bbfbf19e",
   "metadata": {
    "scrolled": true
   },
   "outputs": [
    {
     "data": {
      "text/html": [
       "<div>\n",
       "<style scoped>\n",
       "    .dataframe tbody tr th:only-of-type {\n",
       "        vertical-align: middle;\n",
       "    }\n",
       "\n",
       "    .dataframe tbody tr th {\n",
       "        vertical-align: top;\n",
       "    }\n",
       "\n",
       "    .dataframe thead th {\n",
       "        text-align: right;\n",
       "    }\n",
       "</style>\n",
       "<table border=\"1\" class=\"dataframe\">\n",
       "  <thead>\n",
       "    <tr style=\"text-align: right;\">\n",
       "      <th></th>\n",
       "      <th>sepal_length</th>\n",
       "      <th>sepal_width</th>\n",
       "      <th>petal_length</th>\n",
       "      <th>petal_width</th>\n",
       "      <th>species</th>\n",
       "    </tr>\n",
       "  </thead>\n",
       "  <tbody>\n",
       "    <tr>\n",
       "      <th>140</th>\n",
       "      <td>6.7</td>\n",
       "      <td>3.1</td>\n",
       "      <td>5.6</td>\n",
       "      <td>2.4</td>\n",
       "      <td>Iris-virginica</td>\n",
       "    </tr>\n",
       "    <tr>\n",
       "      <th>141</th>\n",
       "      <td>6.9</td>\n",
       "      <td>3.1</td>\n",
       "      <td>5.1</td>\n",
       "      <td>2.3</td>\n",
       "      <td>Iris-virginica</td>\n",
       "    </tr>\n",
       "    <tr>\n",
       "      <th>142</th>\n",
       "      <td>5.8</td>\n",
       "      <td>2.7</td>\n",
       "      <td>5.1</td>\n",
       "      <td>1.9</td>\n",
       "      <td>Iris-virginica</td>\n",
       "    </tr>\n",
       "    <tr>\n",
       "      <th>143</th>\n",
       "      <td>6.8</td>\n",
       "      <td>3.2</td>\n",
       "      <td>5.9</td>\n",
       "      <td>2.3</td>\n",
       "      <td>Iris-virginica</td>\n",
       "    </tr>\n",
       "    <tr>\n",
       "      <th>144</th>\n",
       "      <td>6.7</td>\n",
       "      <td>3.3</td>\n",
       "      <td>5.7</td>\n",
       "      <td>2.5</td>\n",
       "      <td>Iris-virginica</td>\n",
       "    </tr>\n",
       "    <tr>\n",
       "      <th>145</th>\n",
       "      <td>6.7</td>\n",
       "      <td>3.0</td>\n",
       "      <td>5.2</td>\n",
       "      <td>2.3</td>\n",
       "      <td>Iris-virginica</td>\n",
       "    </tr>\n",
       "    <tr>\n",
       "      <th>146</th>\n",
       "      <td>6.3</td>\n",
       "      <td>2.5</td>\n",
       "      <td>5.0</td>\n",
       "      <td>1.9</td>\n",
       "      <td>Iris-virginica</td>\n",
       "    </tr>\n",
       "    <tr>\n",
       "      <th>147</th>\n",
       "      <td>6.5</td>\n",
       "      <td>3.0</td>\n",
       "      <td>5.2</td>\n",
       "      <td>2.0</td>\n",
       "      <td>Iris-virginica</td>\n",
       "    </tr>\n",
       "    <tr>\n",
       "      <th>148</th>\n",
       "      <td>6.2</td>\n",
       "      <td>3.4</td>\n",
       "      <td>5.4</td>\n",
       "      <td>2.3</td>\n",
       "      <td>Iris-virginica</td>\n",
       "    </tr>\n",
       "    <tr>\n",
       "      <th>149</th>\n",
       "      <td>5.9</td>\n",
       "      <td>3.0</td>\n",
       "      <td>5.1</td>\n",
       "      <td>1.8</td>\n",
       "      <td>Iris-virginica</td>\n",
       "    </tr>\n",
       "  </tbody>\n",
       "</table>\n",
       "</div>"
      ],
      "text/plain": [
       "     sepal_length  sepal_width  petal_length  petal_width         species\n",
       "140           6.7          3.1           5.6          2.4  Iris-virginica\n",
       "141           6.9          3.1           5.1          2.3  Iris-virginica\n",
       "142           5.8          2.7           5.1          1.9  Iris-virginica\n",
       "143           6.8          3.2           5.9          2.3  Iris-virginica\n",
       "144           6.7          3.3           5.7          2.5  Iris-virginica\n",
       "145           6.7          3.0           5.2          2.3  Iris-virginica\n",
       "146           6.3          2.5           5.0          1.9  Iris-virginica\n",
       "147           6.5          3.0           5.2          2.0  Iris-virginica\n",
       "148           6.2          3.4           5.4          2.3  Iris-virginica\n",
       "149           5.9          3.0           5.1          1.8  Iris-virginica"
      ]
     },
     "execution_count": 23,
     "metadata": {},
     "output_type": "execute_result"
    }
   ],
   "source": [
    "df.tail(10)"
   ]
  },
  {
   "cell_type": "code",
   "execution_count": 27,
   "id": "ef395818-eefe-41cf-8f3b-6465d6835c28",
   "metadata": {},
   "outputs": [
    {
     "data": {
      "text/html": [
       "<div>\n",
       "<style scoped>\n",
       "    .dataframe tbody tr th:only-of-type {\n",
       "        vertical-align: middle;\n",
       "    }\n",
       "\n",
       "    .dataframe tbody tr th {\n",
       "        vertical-align: top;\n",
       "    }\n",
       "\n",
       "    .dataframe thead th {\n",
       "        text-align: right;\n",
       "    }\n",
       "</style>\n",
       "<table border=\"1\" class=\"dataframe\">\n",
       "  <thead>\n",
       "    <tr style=\"text-align: right;\">\n",
       "      <th></th>\n",
       "      <th>sepal_length</th>\n",
       "      <th>sepal_width</th>\n",
       "      <th>petal_length</th>\n",
       "      <th>petal_width</th>\n",
       "      <th>species</th>\n",
       "      <th>diff</th>\n",
       "    </tr>\n",
       "  </thead>\n",
       "  <tbody>\n",
       "    <tr>\n",
       "      <th>0</th>\n",
       "      <td>5.1</td>\n",
       "      <td>3.5</td>\n",
       "      <td>1.4</td>\n",
       "      <td>0.2</td>\n",
       "      <td>Iris-setosa</td>\n",
       "      <td>-1.6</td>\n",
       "    </tr>\n",
       "    <tr>\n",
       "      <th>1</th>\n",
       "      <td>4.9</td>\n",
       "      <td>3.0</td>\n",
       "      <td>1.4</td>\n",
       "      <td>0.2</td>\n",
       "      <td>Iris-setosa</td>\n",
       "      <td>-1.9</td>\n",
       "    </tr>\n",
       "    <tr>\n",
       "      <th>2</th>\n",
       "      <td>4.7</td>\n",
       "      <td>3.2</td>\n",
       "      <td>1.3</td>\n",
       "      <td>0.2</td>\n",
       "      <td>Iris-setosa</td>\n",
       "      <td>-1.5</td>\n",
       "    </tr>\n",
       "    <tr>\n",
       "      <th>3</th>\n",
       "      <td>4.6</td>\n",
       "      <td>3.1</td>\n",
       "      <td>1.5</td>\n",
       "      <td>0.2</td>\n",
       "      <td>Iris-setosa</td>\n",
       "      <td>-1.5</td>\n",
       "    </tr>\n",
       "    <tr>\n",
       "      <th>4</th>\n",
       "      <td>5.0</td>\n",
       "      <td>3.6</td>\n",
       "      <td>1.4</td>\n",
       "      <td>0.2</td>\n",
       "      <td>Iris-setosa</td>\n",
       "      <td>-1.4</td>\n",
       "    </tr>\n",
       "    <tr>\n",
       "      <th>...</th>\n",
       "      <td>...</td>\n",
       "      <td>...</td>\n",
       "      <td>...</td>\n",
       "      <td>...</td>\n",
       "      <td>...</td>\n",
       "      <td>...</td>\n",
       "    </tr>\n",
       "    <tr>\n",
       "      <th>145</th>\n",
       "      <td>6.7</td>\n",
       "      <td>3.0</td>\n",
       "      <td>5.2</td>\n",
       "      <td>2.3</td>\n",
       "      <td>Iris-virginica</td>\n",
       "      <td>-3.7</td>\n",
       "    </tr>\n",
       "    <tr>\n",
       "      <th>146</th>\n",
       "      <td>6.3</td>\n",
       "      <td>2.5</td>\n",
       "      <td>5.0</td>\n",
       "      <td>1.9</td>\n",
       "      <td>Iris-virginica</td>\n",
       "      <td>-3.8</td>\n",
       "    </tr>\n",
       "    <tr>\n",
       "      <th>147</th>\n",
       "      <td>6.5</td>\n",
       "      <td>3.0</td>\n",
       "      <td>5.2</td>\n",
       "      <td>2.0</td>\n",
       "      <td>Iris-virginica</td>\n",
       "      <td>-3.5</td>\n",
       "    </tr>\n",
       "    <tr>\n",
       "      <th>148</th>\n",
       "      <td>6.2</td>\n",
       "      <td>3.4</td>\n",
       "      <td>5.4</td>\n",
       "      <td>2.3</td>\n",
       "      <td>Iris-virginica</td>\n",
       "      <td>-2.8</td>\n",
       "    </tr>\n",
       "    <tr>\n",
       "      <th>149</th>\n",
       "      <td>5.9</td>\n",
       "      <td>3.0</td>\n",
       "      <td>5.1</td>\n",
       "      <td>1.8</td>\n",
       "      <td>Iris-virginica</td>\n",
       "      <td>-2.9</td>\n",
       "    </tr>\n",
       "  </tbody>\n",
       "</table>\n",
       "<p>150 rows × 6 columns</p>\n",
       "</div>"
      ],
      "text/plain": [
       "     sepal_length  sepal_width  petal_length  petal_width         species  \\\n",
       "0             5.1          3.5           1.4          0.2     Iris-setosa   \n",
       "1             4.9          3.0           1.4          0.2     Iris-setosa   \n",
       "2             4.7          3.2           1.3          0.2     Iris-setosa   \n",
       "3             4.6          3.1           1.5          0.2     Iris-setosa   \n",
       "4             5.0          3.6           1.4          0.2     Iris-setosa   \n",
       "..            ...          ...           ...          ...             ...   \n",
       "145           6.7          3.0           5.2          2.3  Iris-virginica   \n",
       "146           6.3          2.5           5.0          1.9  Iris-virginica   \n",
       "147           6.5          3.0           5.2          2.0  Iris-virginica   \n",
       "148           6.2          3.4           5.4          2.3  Iris-virginica   \n",
       "149           5.9          3.0           5.1          1.8  Iris-virginica   \n",
       "\n",
       "     diff  \n",
       "0    -1.6  \n",
       "1    -1.9  \n",
       "2    -1.5  \n",
       "3    -1.5  \n",
       "4    -1.4  \n",
       "..    ...  \n",
       "145  -3.7  \n",
       "146  -3.8  \n",
       "147  -3.5  \n",
       "148  -2.8  \n",
       "149  -2.9  \n",
       "\n",
       "[150 rows x 6 columns]"
      ]
     },
     "execution_count": 27,
     "metadata": {},
     "output_type": "execute_result"
    }
   ],
   "source": [
    "df['diff'] = df[\"sepal_width\"] - df[\"sepal_length\"]\n",
    "df"
   ]
  },
  {
   "cell_type": "code",
   "execution_count": 9,
   "id": "b3244a48-e63d-4e78-b5e9-79d9e5c29ce7",
   "metadata": {},
   "outputs": [
    {
     "name": "stdout",
     "output_type": "stream",
     "text": [
      "Hai\n",
      "10\n",
      "30\n"
     ]
    }
   ],
   "source": [
    "class Person():\n",
    "    print(\"Hai\")\n",
    "    a=10\n",
    "obj = Person()\n",
    "obj2 = Person()\n",
    "print(obj.a)\n",
    "print(obj2.a * 3)"
   ]
  },
  {
   "cell_type": "code",
   "execution_count": 11,
   "id": "6729590b-2d29-401c-b772-b8f50631c92a",
   "metadata": {},
   "outputs": [
    {
     "name": "stdout",
     "output_type": "stream",
     "text": [
      "My name is Saran\n"
     ]
    }
   ],
   "source": [
    "def greetings(name):\n",
    "    print(f\"My name is {name}\")\n",
    "greetings(\"Saran\")"
   ]
  },
  {
   "cell_type": "code",
   "execution_count": 21,
   "id": "efe02362-64f2-4be5-a1fa-117a288a2433",
   "metadata": {},
   "outputs": [
    {
     "name": "stdout",
     "output_type": "stream",
     "text": [
      "The Result is  40\n"
     ]
    }
   ],
   "source": [
    "def add(x,y=20):\n",
    "    z = x+y\n",
    "    print(\"The Result is \",z)\n",
    "add(y = 30,x=10)"
   ]
  },
  {
   "cell_type": "code",
   "execution_count": 25,
   "id": "89099b6f-5866-42be-85dd-77549291ca5e",
   "metadata": {},
   "outputs": [
    {
     "name": "stdout",
     "output_type": "stream",
     "text": [
      "40\n"
     ]
    }
   ],
   "source": [
    "def add(x,y=20):\n",
    "    z = x+y\n",
    "    return z\n",
    "add(y = 30,x=10)\n",
    "print(add(y = 30,x=10))"
   ]
  },
  {
   "cell_type": "code",
   "execution_count": 31,
   "id": "0d162a9f-b744-4e19-9c38-0dc78a94967a",
   "metadata": {},
   "outputs": [
    {
     "name": "stdout",
     "output_type": "stream",
     "text": [
      "10\n"
     ]
    }
   ],
   "source": [
    "def fun(x):\n",
    "    return x+5\n",
    "a = fun(5)\n",
    "print(a)\n"
   ]
  },
  {
   "cell_type": "code",
   "execution_count": 3,
   "id": "0fcfd661-98d2-46c6-ba85-b9d135900ce2",
   "metadata": {},
   "outputs": [
    {
     "name": "stdout",
     "output_type": "stream",
     "text": [
      "<class 'int'>\n"
     ]
    }
   ],
   "source": [
    "def add(a:int , b:int = 10) -> int:\n",
    "    return a+b\n",
    "\n",
    "c = add(10)\n",
    "print(type(c))\n",
    "    "
   ]
  },
  {
   "cell_type": "code",
   "execution_count": 9,
   "id": "dcda5057-4501-4004-b6d3-b8e9371d1398",
   "metadata": {},
   "outputs": [
    {
     "name": "stdout",
     "output_type": "stream",
     "text": [
      "50\n"
     ]
    }
   ],
   "source": [
    "def add(x,*y):\n",
    "    z = x+y[2]\n",
    "    print(z)\n",
    "\n",
    "add(10,20,30,40)"
   ]
  },
  {
   "cell_type": "code",
   "execution_count": 29,
   "id": "d090c88a-1ab1-4018-bb65-91a29f13ecf3",
   "metadata": {},
   "outputs": [
    {
     "name": "stdout",
     "output_type": "stream",
     "text": [
      "100\n"
     ]
    }
   ],
   "source": [
    "def add(x,*y):\n",
    "    z = x\n",
    "    for i in y:\n",
    "        #print(i)\n",
    "        z += i\n",
    "    print(z)\n",
    "\n",
    "add(10,20,30,40)"
   ]
  },
  {
   "cell_type": "code",
   "execution_count": 47,
   "id": "077e81eb-e55e-4cb1-baba-5565385752d2",
   "metadata": {},
   "outputs": [
    {
     "name": "stdout",
     "output_type": "stream",
     "text": [
      "No of Even numners present in the list 10 \n",
      "No of Odd numners present in the list 8 \n",
      "Even Numbers count : 10 || Odd Numbers Count : 8 \n"
     ]
    }
   ],
   "source": [
    "def lst_to_fun(lst):\n",
    "    even = 0\n",
    "    odd = 0\n",
    "    for i in lst:\n",
    "        if i % 2 == 0:\n",
    "            even += 1\n",
    "        else:\n",
    "            odd += 1\n",
    "    return even, odd\n",
    "\n",
    "lst = [10,34,53,56,78,46,35,80,9,43,57,88,55,44,33,22,99,98]\n",
    "even, odd = lst_to_fun(lst)\n",
    "print(f\"No of Even numners present in the list {even} \")\n",
    "print(f\"No of Odd numners present in the list {odd} \")\n",
    "print(\"Even Numbers count : {} || Odd Numbers Count : {} \".format(even,odd))"
   ]
  },
  {
   "cell_type": "code",
   "execution_count": null,
   "id": "d4a64a60-3f3b-4889-9ee8-311ad03df508",
   "metadata": {},
   "outputs": [],
   "source": []
  },
  {
   "cell_type": "code",
   "execution_count": 23,
   "id": "4b104f11-4613-45a9-b1f7-566f9258d518",
   "metadata": {},
   "outputs": [
    {
     "name": "stdout",
     "output_type": "stream",
     "text": [
      "Name is  saran\n",
      "{'age': 45, 'mob': 123456}\n",
      "<class 'dict'>\n"
     ]
    }
   ],
   "source": [
    "def fun(name,**values):\n",
    "    print(\"Name is \",name)\n",
    "    print(values) #print(values[\"age\"]) -> 45\n",
    "    print(type(values))\n",
    "\n",
    "fun(\"saran\",age=45,mob=123456)"
   ]
  },
  {
   "cell_type": "code",
   "execution_count": 39,
   "id": "e323db2a-1955-472e-91e6-c63cd75e20e0",
   "metadata": {},
   "outputs": [
    {
     "name": "stdout",
     "output_type": "stream",
     "text": [
      "Name is  saran\n",
      "45\n",
      "123456\n"
     ]
    }
   ],
   "source": [
    "def fun(name,**values):\n",
    "    print(\"Name is \",name)\n",
    "    for j in values.values():\n",
    "        print(j)\n",
    "\n",
    "fun(\"saran\",age=45,mob=123456)"
   ]
  },
  {
   "cell_type": "code",
   "execution_count": 61,
   "id": "37f25bbd-ca04-4459-b14e-ec4c8fa7c4d5",
   "metadata": {},
   "outputs": [
    {
     "name": "stdout",
     "output_type": "stream",
     "text": [
      "Name is  saran\n",
      "dict_items([('age', 45), ('mob', 123456)])\n"
     ]
    }
   ],
   "source": [
    "def fun(name,**values):\n",
    "    print(\"Name is \",name)\n",
    "    a=values.items()\n",
    "    print(a)\n",
    "\n",
    "fun(\"saran\",age=45,mob=123456)"
   ]
  },
  {
   "cell_type": "code",
   "execution_count": null,
   "id": "061c2d9e-dfcb-4150-9a38-ef8a426e91fd",
   "metadata": {},
   "outputs": [],
   "source": []
  },
  {
   "cell_type": "code",
   "execution_count": 75,
   "id": "0def3d88-8c8d-4bad-9634-116e61502b36",
   "metadata": {},
   "outputs": [
    {
     "name": "stdout",
     "output_type": "stream",
     "text": [
      "Memory size of list: 80\n"
     ]
    }
   ],
   "source": [
    "import sys\n",
    "\n",
    "a = ('Learn', 'Python', 'with', 'GFG', 'now')\n",
    "\n",
    "# Checking memory usage of the list\n",
    "print(\"Memory size of list:\", sys.getsizeof(a))  # Returns the size in bytes"
   ]
  },
  {
   "cell_type": "code",
   "execution_count": 7,
   "id": "e4eaea5b-5dd4-42ef-b5e8-ffb872e9cc1f",
   "metadata": {},
   "outputs": [
    {
     "name": "stdout",
     "output_type": "stream",
     "text": [
      "the result is 30\n"
     ]
    }
   ],
   "source": [
    "class addition():\n",
    "    def add(self,a,b):\n",
    "        c = a + b\n",
    "        print(\"the result is\", c)\n",
    "a = addition()\n",
    "a.add(10,20)"
   ]
  },
  {
   "cell_type": "code",
   "execution_count": 29,
   "id": "b03c5d14-63a6-40db-a4ce-2a8dcea0c970",
   "metadata": {},
   "outputs": [
    {
     "name": "stdout",
     "output_type": "stream",
     "text": [
      "the result is 30\n",
      "<class '__main__.addition'>\n"
     ]
    }
   ],
   "source": [
    "class addition():\n",
    "    def add(self,a,b):\n",
    "        c = a + b\n",
    "        print(\"the result is\", c)\n",
    "a = addition()\n",
    "a.add(10,20)\n",
    "print(type(a))\n"
   ]
  },
  {
   "cell_type": "code",
   "execution_count": null,
   "id": "98ff2a79-4c20-4e67-9879-39f60a7a8bed",
   "metadata": {},
   "outputs": [],
   "source": []
  },
  {
   "cell_type": "code",
   "execution_count": 31,
   "id": "733fd35b-c5d8-4667-8314-8f868473fe46",
   "metadata": {},
   "outputs": [
    {
     "name": "stdout",
     "output_type": "stream",
     "text": [
      "the result is 50\n",
      "<class '__main__.addition'>\n"
     ]
    }
   ],
   "source": [
    "class addition():\n",
    "    d = 20\n",
    "    def add(self,a,b):\n",
    "        c = a + b + self.d\n",
    "        print(\"the result is\", c)\n",
    "a = addition()\n",
    "a.add(10,20)\n"
   ]
  },
  {
   "cell_type": "code",
   "execution_count": 1,
   "id": "17b67579-f98a-40a2-b3c3-395402548c95",
   "metadata": {},
   "outputs": [
    {
     "name": "stdin",
     "output_type": "stream",
     "text": [
      "Enter the number:  15,6\n"
     ]
    },
    {
     "name": "stdout",
     "output_type": "stream",
     "text": [
      "<class 'str'>\n"
     ]
    }
   ],
   "source": [
    "inp = input(\"Enter the number: \")\n",
    "print(type(inp))"
   ]
  },
  {
   "cell_type": "code",
   "execution_count": 7,
   "id": "886a0dcb-12ef-4a63-815a-ae3ab208c067",
   "metadata": {},
   "outputs": [
    {
     "name": "stdin",
     "output_type": "stream",
     "text": [
      "Enter the number:  55 66 77 88 99\n"
     ]
    },
    {
     "name": "stdout",
     "output_type": "stream",
     "text": [
      "<class 'list'>\n",
      "[55, 66, 77, 88, 99]\n"
     ]
    }
   ],
   "source": [
    "inp = input(\"Enter the number: \")\n",
    "lst = list(map(int,inp.split()))\n",
    "print(type(lst))\n",
    "print(lst)\n"
   ]
  },
  {
   "cell_type": "code",
   "execution_count": 9,
   "id": "fab9fcb0-b151-465c-a8b0-44a9e09638bf",
   "metadata": {},
   "outputs": [
    {
     "name": "stdin",
     "output_type": "stream",
     "text": [
      "Enter the number:  55 66 77 88 99 \n"
     ]
    },
    {
     "name": "stdout",
     "output_type": "stream",
     "text": [
      "<class 'list'>\n",
      "[<map object at 0x0000015625152A10>]\n"
     ]
    }
   ],
   "source": [
    "inp = input(\"Enter the number: \")\n",
    "lst = [map(int,inp.split())]\n",
    "print(type(lst))\n",
    "print(lst)\n"
   ]
  },
  {
   "cell_type": "code",
   "execution_count": null,
   "id": "130087cc-855d-4b27-b4c7-f4ecf666df17",
   "metadata": {},
   "outputs": [],
   "source": []
  },
  {
   "cell_type": "code",
   "execution_count": null,
   "id": "da005f8b-86f5-4de3-aa9e-7ea28dbeb2cc",
   "metadata": {},
   "outputs": [],
   "source": []
  },
  {
   "cell_type": "code",
   "execution_count": 13,
   "id": "3866932b-baaa-4cee-b569-d4d2c0f10263",
   "metadata": {},
   "outputs": [
    {
     "name": "stdin",
     "output_type": "stream",
     "text": [
      "Enter the Number:  56\n"
     ]
    },
    {
     "name": "stdout",
     "output_type": "stream",
     "text": [
      "Better luck next time\n"
     ]
    },
    {
     "name": "stdin",
     "output_type": "stream",
     "text": [
      "Enter the Number:  56\n"
     ]
    },
    {
     "name": "stdout",
     "output_type": "stream",
     "text": [
      "Better luck next time\n"
     ]
    },
    {
     "name": "stdin",
     "output_type": "stream",
     "text": [
      "Enter the Number:  56\n"
     ]
    },
    {
     "name": "stdout",
     "output_type": "stream",
     "text": [
      "Better luck next time\n"
     ]
    },
    {
     "name": "stdin",
     "output_type": "stream",
     "text": [
      "Enter the Number:  656\n"
     ]
    },
    {
     "name": "stdout",
     "output_type": "stream",
     "text": [
      "Better luck next time\n"
     ]
    },
    {
     "name": "stdin",
     "output_type": "stream",
     "text": [
      "Enter the Number:  96\n"
     ]
    },
    {
     "name": "stdout",
     "output_type": "stream",
     "text": [
      "You guessed the number!!!!\n",
      "you find the secret_number 96 in the 5 trial\n"
     ]
    }
   ],
   "source": [
    "secret_num = 96\n",
    "\n",
    "for i in range(1,8):\n",
    "    user_input = int(input(\"Enter the Number: \"))\n",
    "    if secret_num == user_input:\n",
    "        print(\"You guessed the number!!!!\")\n",
    "        break\n",
    "    else:\n",
    "        print(\"Better luck next time\")\n",
    "print(f\"you find the secret_number {secret_num} in the {i} trial\")"
   ]
  },
  {
   "cell_type": "code",
   "execution_count": 75,
   "id": "e56b762d-1835-4e12-beb7-93ba129b84ee",
   "metadata": {},
   "outputs": [
    {
     "data": {
      "text/plain": [
       "13451647017"
      ]
     },
     "execution_count": 75,
     "metadata": {},
     "output_type": "execute_result"
    }
   ],
   "source": [
    "import random\n",
    "a = random.randint()\n",
    "a"
   ]
  },
  {
   "cell_type": "code",
   "execution_count": 77,
   "id": "1da51dfb-be75-4510-a305-6eb404e6bac8",
   "metadata": {},
   "outputs": [],
   "source": [
    "import pandas as pd"
   ]
  },
  {
   "cell_type": "code",
   "execution_count": 81,
   "id": "b38b418b-b95c-45f8-b20d-ddaf66685ef3",
   "metadata": {},
   "outputs": [
    {
     "data": {
      "text/plain": [
       "'2.1.4'"
      ]
     },
     "execution_count": 81,
     "metadata": {},
     "output_type": "execute_result"
    }
   ],
   "source": [
    "pd.__version__"
   ]
  },
  {
   "cell_type": "code",
   "execution_count": 1,
   "id": "57e34524-54e7-4f21-802b-64ec8fdfc25a",
   "metadata": {},
   "outputs": [
    {
     "name": "stdout",
     "output_type": "stream",
     "text": [
      "2\n"
     ]
    }
   ],
   "source": [
    "print(1+1)"
   ]
  },
  {
   "cell_type": "code",
   "execution_count": null,
   "id": "7ad473ab-28ba-4b91-b995-e91865f227f3",
   "metadata": {},
   "outputs": [],
   "source": [
    "pd.re"
   ]
  },
  {
   "cell_type": "code",
   "execution_count": null,
   "id": "8cfee2fe-669e-4f8f-b131-13dea2539826",
   "metadata": {},
   "outputs": [],
   "source": []
  },
  {
   "cell_type": "code",
   "execution_count": null,
   "id": "cdc29e59-72a4-4e87-a829-930dc0b3cd05",
   "metadata": {},
   "outputs": [],
   "source": [
    "a = {}"
   ]
  },
  {
   "cell_type": "code",
   "execution_count": null,
   "id": "306d7a3e-22e3-4f48-a4da-87d19966bb19",
   "metadata": {},
   "outputs": [],
   "source": []
  },
  {
   "cell_type": "code",
   "execution_count": 1,
   "id": "efdddb5d-28ac-4c09-9491-a8d5c2ef1352",
   "metadata": {},
   "outputs": [
    {
     "data": {
      "text/plain": [
       "''"
      ]
     },
     "execution_count": 1,
     "metadata": {},
     "output_type": "execute_result"
    }
   ],
   "source": [
    "a = \"Bhagavathi Saran\"\n",
    "a[-1:-4]"
   ]
  },
  {
   "cell_type": "code",
   "execution_count": 3,
   "id": "aae91970-f324-46c7-881b-caf4d76818ef",
   "metadata": {},
   "outputs": [
    {
     "data": {
      "text/plain": [
       "'ara'"
      ]
     },
     "execution_count": 3,
     "metadata": {},
     "output_type": "execute_result"
    }
   ],
   "source": [
    "a[-4:-1]"
   ]
  },
  {
   "cell_type": "code",
   "execution_count": 11,
   "id": "847f7294-75ba-454d-afc1-77223c75b057",
   "metadata": {},
   "outputs": [
    {
     "data": {
      "text/plain": [
       "'avat'"
      ]
     },
     "execution_count": 11,
     "metadata": {},
     "output_type": "execute_result"
    }
   ],
   "source": [
    "a [4:8]"
   ]
  },
  {
   "cell_type": "code",
   "execution_count": 33,
   "id": "8acc7399-b90c-42d3-8da4-fdf862e7e4e0",
   "metadata": {},
   "outputs": [
    {
     "data": {
      "text/plain": [
       "1"
      ]
     },
     "execution_count": 33,
     "metadata": {},
     "output_type": "execute_result"
    }
   ],
   "source": [
    "10%3"
   ]
  },
  {
   "cell_type": "code",
   "execution_count": 39,
   "id": "97a58da2-f4bb-40d0-b974-7246a9ddf479",
   "metadata": {},
   "outputs": [
    {
     "name": "stdout",
     "output_type": "stream",
     "text": [
      "True\n"
     ]
    }
   ],
   "source": [
    "a = [\"Apple\",\"Banana\"]\n",
    "print(\"Orange\" not in a)"
   ]
  },
  {
   "cell_type": "code",
   "execution_count": 59,
   "id": "c9ea084f-86cb-461b-b73a-eaf306f52a6b",
   "metadata": {
    "scrolled": true
   },
   "outputs": [
    {
     "name": "stdout",
     "output_type": "stream",
     "text": [
      "2455875300608\n",
      "2455875302528\n",
      "2455875300608\n",
      "False\n",
      "True\n",
      "True\n"
     ]
    }
   ],
   "source": [
    "a = [\"Apple\",\"Banana\"]\n",
    "b = [\"Apple\",\"Banana\"]\n",
    "c = a\n",
    "print(id(a))\n",
    "print(id(b))\n",
    "print(id(c))\n",
    "print(a is b)\n",
    "print(a is c)\n",
    "print(a==b)"
   ]
  },
  {
   "cell_type": "code",
   "execution_count": 3,
   "id": "9f813e2f-b36b-4ef4-bbc2-9102f661b546",
   "metadata": {},
   "outputs": [
    {
     "ename": "NameError",
     "evalue": "name 'index' is not defined",
     "output_type": "error",
     "traceback": [
      "\u001b[1;31m---------------------------------------------------------------------------\u001b[0m",
      "\u001b[1;31mNameError\u001b[0m                                 Traceback (most recent call last)",
      "Cell \u001b[1;32mIn[3], line 3\u001b[0m\n\u001b[0;32m      1\u001b[0m name \u001b[38;5;241m=\u001b[39m \u001b[38;5;124m'\u001b[39m\u001b[38;5;124mSaran\u001b[39m\u001b[38;5;124m'\u001b[39m\n\u001b[0;32m      2\u001b[0m \u001b[38;5;28;01mfor\u001b[39;00m i \u001b[38;5;129;01min\u001b[39;00m name:\n\u001b[1;32m----> 3\u001b[0m     \u001b[38;5;28;01mif\u001b[39;00m index(\u001b[38;5;124m'\u001b[39m\u001b[38;5;124mS\u001b[39m\u001b[38;5;124m'\u001b[39m) \u001b[38;5;241m==\u001b[39m \u001b[38;5;241m0\u001b[39m:\n\u001b[0;32m      4\u001b[0m         \u001b[38;5;28mprint\u001b[39m(i)\n",
      "\u001b[1;31mNameError\u001b[0m: name 'index' is not defined"
     ]
    }
   ],
   "source": [
    "name = 'Saran'\n",
    "for i in name:\n",
    "    if index('S') == 0:\n",
    "        print(i)"
   ]
  },
  {
   "cell_type": "code",
   "execution_count": 8,
   "id": "12c53c33-7a79-416e-b9fd-baf10614fcbf",
   "metadata": {},
   "outputs": [
    {
     "name": "stdin",
     "output_type": "stream",
     "text": [
      "Enter a word :  saran\n"
     ]
    },
    {
     "name": "stdout",
     "output_type": "stream",
     "text": [
      "a\n",
      "a\n"
     ]
    }
   ],
   "source": [
    "user_input = input(\"Enter a word : \")\n",
    "for i in user_input:\n",
    "    if i.lower() == 'a':\n",
    "        print(i)"
   ]
  },
  {
   "cell_type": "code",
   "execution_count": 22,
   "id": "084f6dee-1bbd-4068-aa34-4100cb8c4fb0",
   "metadata": {},
   "outputs": [
    {
     "name": "stdout",
     "output_type": "stream",
     "text": [
      "3\n",
      "4\n",
      "5\n",
      "6\n",
      "i\n"
     ]
    }
   ],
   "source": [
    "a = (1,2,3,4)\n",
    "for i in a:\n",
    "    print(i+2)\n",
    "print(\"i\")"
   ]
  },
  {
   "cell_type": "code",
   "execution_count": 1,
   "id": "faecb381-9996-4a54-80dd-0144c0d61607",
   "metadata": {},
   "outputs": [
    {
     "ename": "NameError",
     "evalue": "name 'pandas' is not defined",
     "output_type": "error",
     "traceback": [
      "\u001b[31m---------------------------------------------------------------------------\u001b[39m",
      "\u001b[31mNameError\u001b[39m                                 Traceback (most recent call last)",
      "\u001b[36mCell\u001b[39m\u001b[36m \u001b[39m\u001b[32mIn[1]\u001b[39m\u001b[32m, line 1\u001b[39m\n\u001b[32m----> \u001b[39m\u001b[32m1\u001b[39m \u001b[43mpandas\u001b[49m.__version__\n",
      "\u001b[31mNameError\u001b[39m: name 'pandas' is not defined"
     ]
    }
   ],
   "source": [
    "pandas.__version__"
   ]
  },
  {
   "cell_type": "code",
   "execution_count": 2,
   "id": "0198a82f-775e-41bb-8d99-76911bb18ab9",
   "metadata": {},
   "outputs": [
    {
     "name": "stdout",
     "output_type": "stream",
     "text": [
      "Requirement already satisfied: pandas in c:\\users\\bhaga\\appdata\\local\\programs\\python\\python313\\lib\\site-packages (2.3.1)\n",
      "Requirement already satisfied: numpy>=1.26.0 in c:\\users\\bhaga\\appdata\\local\\programs\\python\\python313\\lib\\site-packages (from pandas) (2.3.2)\n",
      "Requirement already satisfied: python-dateutil>=2.8.2 in c:\\users\\bhaga\\appdata\\local\\programs\\python\\python313\\lib\\site-packages (from pandas) (2.9.0.post0)\n",
      "Requirement already satisfied: pytz>=2020.1 in c:\\users\\bhaga\\appdata\\local\\programs\\python\\python313\\lib\\site-packages (from pandas) (2025.2)\n",
      "Requirement already satisfied: tzdata>=2022.7 in c:\\users\\bhaga\\appdata\\local\\programs\\python\\python313\\lib\\site-packages (from pandas) (2025.2)\n",
      "Requirement already satisfied: six>=1.5 in c:\\users\\bhaga\\appdata\\local\\programs\\python\\python313\\lib\\site-packages (from python-dateutil>=2.8.2->pandas) (1.17.0)\n"
     ]
    }
   ],
   "source": [
    "!pip install pandas"
   ]
  },
  {
   "cell_type": "code",
   "execution_count": 3,
   "id": "06422a8d-946d-496a-bb30-fa7f2157d05e",
   "metadata": {},
   "outputs": [
    {
     "data": {
      "text/plain": [
       "'2.3.1'"
      ]
     },
     "execution_count": 3,
     "metadata": {},
     "output_type": "execute_result"
    }
   ],
   "source": [
    "import pandas as pd\n",
    "pd.__version__"
   ]
  },
  {
   "cell_type": "code",
   "execution_count": 10,
   "id": "8e576930-f90b-43a8-bed9-a52998dd8af6",
   "metadata": {},
   "outputs": [
    {
     "data": {
      "text/html": [
       "<div>\n",
       "<style scoped>\n",
       "    .dataframe tbody tr th:only-of-type {\n",
       "        vertical-align: middle;\n",
       "    }\n",
       "\n",
       "    .dataframe tbody tr th {\n",
       "        vertical-align: top;\n",
       "    }\n",
       "\n",
       "    .dataframe thead th {\n",
       "        text-align: right;\n",
       "    }\n",
       "</style>\n",
       "<table border=\"1\" class=\"dataframe\">\n",
       "  <thead>\n",
       "    <tr style=\"text-align: right;\">\n",
       "      <th></th>\n",
       "      <th>State</th>\n",
       "      <th>2020 - Actual</th>\n",
       "      <th>2020 - Normal</th>\n",
       "      <th>2020 - % Departure</th>\n",
       "      <th>2021 - Actual</th>\n",
       "      <th>2021 - Normal</th>\n",
       "      <th>2021 - % Departure</th>\n",
       "      <th>2022 - Actual</th>\n",
       "      <th>2022 - Normal</th>\n",
       "      <th>2022 - % Departure</th>\n",
       "    </tr>\n",
       "  </thead>\n",
       "  <tbody>\n",
       "    <tr>\n",
       "      <th>0</th>\n",
       "      <td>Andhra Pradesh</td>\n",
       "      <td>738.2</td>\n",
       "      <td>514.4</td>\n",
       "      <td>44</td>\n",
       "      <td>613.5</td>\n",
       "      <td>514.4</td>\n",
       "      <td>19</td>\n",
       "      <td>575.6</td>\n",
       "      <td>521.6</td>\n",
       "      <td>10</td>\n",
       "    </tr>\n",
       "    <tr>\n",
       "      <th>1</th>\n",
       "      <td>Arunachal Pradesh</td>\n",
       "      <td>1972.0</td>\n",
       "      <td>1726.6</td>\n",
       "      <td>14</td>\n",
       "      <td>1294.0</td>\n",
       "      <td>1726.6</td>\n",
       "      <td>-25</td>\n",
       "      <td>1430.3</td>\n",
       "      <td>1675.1</td>\n",
       "      <td>-15</td>\n",
       "    </tr>\n",
       "    <tr>\n",
       "      <th>2</th>\n",
       "      <td>Assam</td>\n",
       "      <td>1654.6</td>\n",
       "      <td>1486.2</td>\n",
       "      <td>11</td>\n",
       "      <td>1150.0</td>\n",
       "      <td>1486.2</td>\n",
       "      <td>-23</td>\n",
       "      <td>1340.5</td>\n",
       "      <td>1479.1</td>\n",
       "      <td>-9</td>\n",
       "    </tr>\n",
       "    <tr>\n",
       "      <th>3</th>\n",
       "      <td>Bihar</td>\n",
       "      <td>1272.4</td>\n",
       "      <td>1017.2</td>\n",
       "      <td>25</td>\n",
       "      <td>1044.3</td>\n",
       "      <td>1017.2</td>\n",
       "      <td>3</td>\n",
       "      <td>683.7</td>\n",
       "      <td>992.2</td>\n",
       "      <td>-31</td>\n",
       "    </tr>\n",
       "    <tr>\n",
       "      <th>4</th>\n",
       "      <td>Chandigarh</td>\n",
       "      <td>791.1</td>\n",
       "      <td>846.5</td>\n",
       "      <td>-7</td>\n",
       "      <td>600.2</td>\n",
       "      <td>846.5</td>\n",
       "      <td>-29</td>\n",
       "      <td>902.5</td>\n",
       "      <td>844.9</td>\n",
       "      <td>7</td>\n",
       "    </tr>\n",
       "  </tbody>\n",
       "</table>\n",
       "</div>"
      ],
      "text/plain": [
       "               State  2020 - Actual  2020 - Normal  2020 - % Departure  \\\n",
       "0     Andhra Pradesh          738.2          514.4                  44   \n",
       "1  Arunachal Pradesh         1972.0         1726.6                  14   \n",
       "2              Assam         1654.6         1486.2                  11   \n",
       "3              Bihar         1272.4         1017.2                  25   \n",
       "4         Chandigarh          791.1          846.5                  -7   \n",
       "\n",
       "   2021 - Actual  2021 - Normal  2021 - % Departure  2022 - Actual  \\\n",
       "0          613.5          514.4                  19          575.6   \n",
       "1         1294.0         1726.6                 -25         1430.3   \n",
       "2         1150.0         1486.2                 -23         1340.5   \n",
       "3         1044.3         1017.2                   3          683.7   \n",
       "4          600.2          846.5                 -29          902.5   \n",
       "\n",
       "   2022 - Normal  2022 - % Departure  \n",
       "0          521.6                  10  \n",
       "1         1675.1                 -15  \n",
       "2         1479.1                  -9  \n",
       "3          992.2                 -31  \n",
       "4          844.9                   7  "
      ]
     },
     "execution_count": 10,
     "metadata": {},
     "output_type": "execute_result"
    }
   ],
   "source": [
    "df = pd.read_csv('RS_Session_260_AU_25_B.csv')\n",
    "df.head()"
   ]
  },
  {
   "cell_type": "code",
   "execution_count": 13,
   "id": "92441b4c-9fc0-4917-836e-d96b949c5542",
   "metadata": {},
   "outputs": [
    {
     "data": {
      "text/html": [
       "<div>\n",
       "<style scoped>\n",
       "    .dataframe tbody tr th:only-of-type {\n",
       "        vertical-align: middle;\n",
       "    }\n",
       "\n",
       "    .dataframe tbody tr th {\n",
       "        vertical-align: top;\n",
       "    }\n",
       "\n",
       "    .dataframe thead th {\n",
       "        text-align: right;\n",
       "    }\n",
       "</style>\n",
       "<table border=\"1\" class=\"dataframe\">\n",
       "  <thead>\n",
       "    <tr style=\"text-align: right;\">\n",
       "      <th></th>\n",
       "      <th>order_id</th>\n",
       "      <th>quantity</th>\n",
       "      <th>item_name</th>\n",
       "      <th>choice_description</th>\n",
       "      <th>item_price</th>\n",
       "    </tr>\n",
       "  </thead>\n",
       "  <tbody>\n",
       "    <tr>\n",
       "      <th>0</th>\n",
       "      <td>1</td>\n",
       "      <td>1</td>\n",
       "      <td>Chips and Fresh Tomato Salsa</td>\n",
       "      <td>NaN</td>\n",
       "      <td>$2.39</td>\n",
       "    </tr>\n",
       "    <tr>\n",
       "      <th>1</th>\n",
       "      <td>1</td>\n",
       "      <td>1</td>\n",
       "      <td>Izze</td>\n",
       "      <td>[Clementine]</td>\n",
       "      <td>$3.39</td>\n",
       "    </tr>\n",
       "    <tr>\n",
       "      <th>2</th>\n",
       "      <td>1</td>\n",
       "      <td>1</td>\n",
       "      <td>Nantucket Nectar</td>\n",
       "      <td>[Apple]</td>\n",
       "      <td>$3.39</td>\n",
       "    </tr>\n",
       "    <tr>\n",
       "      <th>3</th>\n",
       "      <td>1</td>\n",
       "      <td>1</td>\n",
       "      <td>Chips and Tomatillo-Green Chili Salsa</td>\n",
       "      <td>NaN</td>\n",
       "      <td>$2.39</td>\n",
       "    </tr>\n",
       "    <tr>\n",
       "      <th>4</th>\n",
       "      <td>2</td>\n",
       "      <td>2</td>\n",
       "      <td>Chicken Bowl</td>\n",
       "      <td>[Tomatillo-Red Chili Salsa (Hot), [Black Beans...</td>\n",
       "      <td>$16.98</td>\n",
       "    </tr>\n",
       "  </tbody>\n",
       "</table>\n",
       "</div>"
      ],
      "text/plain": [
       "   order_id  quantity                              item_name  \\\n",
       "0         1         1           Chips and Fresh Tomato Salsa   \n",
       "1         1         1                                   Izze   \n",
       "2         1         1                       Nantucket Nectar   \n",
       "3         1         1  Chips and Tomatillo-Green Chili Salsa   \n",
       "4         2         2                           Chicken Bowl   \n",
       "\n",
       "                                  choice_description item_price  \n",
       "0                                                NaN     $2.39   \n",
       "1                                       [Clementine]     $3.39   \n",
       "2                                            [Apple]     $3.39   \n",
       "3                                                NaN     $2.39   \n",
       "4  [Tomatillo-Red Chili Salsa (Hot), [Black Beans...    $16.98   "
      ]
     },
     "execution_count": 13,
     "metadata": {},
     "output_type": "execute_result"
    }
   ],
   "source": [
    "df1 = pd.read_csv('data.tsv.txt', sep = '@')\n",
    "df1.head()"
   ]
  },
  {
   "cell_type": "code",
   "execution_count": null,
   "id": "564d8939-a18d-46db-ad1e-3277b8c33eb6",
   "metadata": {},
   "outputs": [],
   "source": []
  },
  {
   "cell_type": "code",
   "execution_count": null,
   "id": "d8df94c8-f689-41cd-94a9-6bc3a5ce70fb",
   "metadata": {},
   "outputs": [],
   "source": []
  },
  {
   "cell_type": "code",
   "execution_count": null,
   "id": "14be43b0-e26c-4f8f-a92d-49810b362437",
   "metadata": {},
   "outputs": [],
   "source": []
  },
  {
   "cell_type": "code",
   "execution_count": null,
   "id": "a3808fb1-1ded-4845-b843-7253a260ee1d",
   "metadata": {},
   "outputs": [],
   "source": []
  },
  {
   "cell_type": "code",
   "execution_count": null,
   "id": "88fdf04c-4732-4d36-aab7-0f328a3f8e63",
   "metadata": {},
   "outputs": [],
   "source": []
  },
  {
   "cell_type": "code",
   "execution_count": null,
   "id": "5b5d7f6d-30f7-4d87-ac00-55eff7926046",
   "metadata": {},
   "outputs": [],
   "source": []
  },
  {
   "cell_type": "code",
   "execution_count": null,
   "id": "0a78981d-d0e4-4102-a603-3e1ccb4e022f",
   "metadata": {},
   "outputs": [],
   "source": []
  }
 ],
 "metadata": {
  "kernelspec": {
   "display_name": "Python 3 (ipykernel)",
   "language": "python",
   "name": "python3"
  },
  "language_info": {
   "codemirror_mode": {
    "name": "ipython",
    "version": 3
   },
   "file_extension": ".py",
   "mimetype": "text/x-python",
   "name": "python",
   "nbconvert_exporter": "python",
   "pygments_lexer": "ipython3",
   "version": "3.13.5"
  }
 },
 "nbformat": 4,
 "nbformat_minor": 5
}
