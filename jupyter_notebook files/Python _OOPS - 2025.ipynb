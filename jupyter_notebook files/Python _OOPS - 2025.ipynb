{
 "cells": [
  {
   "cell_type": "code",
   "execution_count": 47,
   "id": "bb248370-fbf7-498f-8ac5-9f710750949f",
   "metadata": {},
   "outputs": [
    {
     "name": "stdout",
     "output_type": "stream",
     "text": [
      "Doc string for demo purpose\n",
      "Help on class tes in module __main__:\n",
      "\n",
      "class tes(builtins.object)\n",
      " |  Doc string for demo purpose\n",
      " |  \n",
      " |  Data descriptors defined here:\n",
      " |  \n",
      " |  __dict__\n",
      " |      dictionary for instance variables (if defined)\n",
      " |  \n",
      " |  __weakref__\n",
      " |      list of weak references to the object (if defined)\n",
      "\n"
     ]
    }
   ],
   "source": [
    "class tes():\n",
    "    \"\"\"Doc string for demo purpose\"\"\"\n",
    "print(tes.__doc__)\n",
    "help(tes)"
   ]
  },
  {
   "cell_type": "code",
   "execution_count": 89,
   "id": "733725b8-f973-493b-b1b7-6b17fc4f07c7",
   "metadata": {},
   "outputs": [
    {
     "name": "stdout",
     "output_type": "stream",
     "text": [
      "1646126118608\n"
     ]
    }
   ],
   "source": [
    "class test:\n",
    "    def __int__(self):\n",
    "        print(id(self))\n",
    "s = test()\n",
    "print(id(s))"
   ]
  },
  {
   "cell_type": "code",
   "execution_count": 1,
   "id": "94f4adf8-aeac-413c-8885-4b15e2414773",
   "metadata": {},
   "outputs": [
    {
     "name": "stdout",
     "output_type": "stream",
     "text": [
      "Hi, My Name is John and Rollno is 100 \n",
      "Hi, My Name is John and Rollno is 100 \n"
     ]
    }
   ],
   "source": [
    "class student():\n",
    "    def __init__(self,name,rollno):\n",
    "        self.name = name\n",
    "        self.rollno = rollno\n",
    "    def greet(self):\n",
    "        print(\"Hi, My Name is {} and Rollno is {} \".format(self.name,self.rollno))\n",
    "        print(f\"Hi, My Name is {self.name} and Rollno is {self.rollno} \")\n",
    "s = student('John',100)\n",
    "s.greet()\n"
   ]
  },
  {
   "cell_type": "code",
   "execution_count": null,
   "id": "8fc1570b-10cc-4a8f-9ea2-3729db4746d8",
   "metadata": {},
   "outputs": [],
   "source": []
  },
  {
   "cell_type": "code",
   "execution_count": 51,
   "id": "6f306f29-7fbc-47d4-a37e-fb78f0b03774",
   "metadata": {},
   "outputs": [
    {
     "name": "stdout",
     "output_type": "stream",
     "text": [
      "Hi, My Name is John and Rollno is 100 \n",
      "Hi, My Name is Abraham, Rollno is 200 and Age is 25\n"
     ]
    }
   ],
   "source": [
    "class student():\n",
    "    def __init__(self,name,rollno):\n",
    "        self.name = name\n",
    "        self.rollno = rollno\n",
    "    def greet(self):\n",
    "        print(\"Hi, My Name is {} and Rollno is {} \".format(self.name,self.rollno))\n",
    "    def greet_new(self, age):\n",
    "        print(f'Hi, My Name is {self.name}, Rollno is {self.rollno} and Age is {age}')\n",
    "s = student('John',100)\n",
    "s1 = student('Abraham',200)\n",
    "s.greet()\n",
    "s1.greet_new(25)"
   ]
  },
  {
   "cell_type": "code",
   "execution_count": 3,
   "id": "0b949d2a-4bda-4175-8fce-764e3ba68c60",
   "metadata": {},
   "outputs": [
    {
     "name": "stdout",
     "output_type": "stream",
     "text": [
      "Help on class student in module __main__:\n",
      "\n",
      "class student(builtins.object)\n",
      " |  student(name, rollno)\n",
      " |  \n",
      " |  Methods defined here:\n",
      " |  \n",
      " |  __init__(self, name, rollno)\n",
      " |      Initialize self.  See help(type(self)) for accurate signature.\n",
      " |  \n",
      " |  greet(self)\n",
      " |  \n",
      " |  greet_new(self, age)\n",
      " |  \n",
      " |  ----------------------------------------------------------------------\n",
      " |  Data descriptors defined here:\n",
      " |  \n",
      " |  __dict__\n",
      " |      dictionary for instance variables (if defined)\n",
      " |  \n",
      " |  __weakref__\n",
      " |      list of weak references to the object (if defined)\n",
      "\n"
     ]
    }
   ],
   "source": [
    "class student():\n",
    "    def __init__(self,name,rollno):\n",
    "        self.name = name\n",
    "        self.rollno = rollno\n",
    "    def greet(self):\n",
    "        print(\"Hi, My Name is {} and Rollno is {} \".format(self.name,self.rollno))\n",
    "    def greet_new(self, age):\n",
    "        print(f'Hi, My Name is {self.name}, Rollno is {self.rollno} and Age is {age}')\n",
    "help(student)"
   ]
  },
  {
   "cell_type": "markdown",
   "id": "f4c3c2e8-33b8-49b9-acde-0893f4b9ac4a",
   "metadata": {},
   "source": [
    "### Details about (Self)"
   ]
  },
  {
   "cell_type": "markdown",
   "id": "df0bd9e8-5469-4106-bf09-e54d7c0c6f61",
   "metadata": {},
   "source": [
    "1. self is an implicit variable which is always provided by PVM.\n",
    "2. self is always pointing to current object\n",
    "3. For every constructor and instance method the first argument should be self.\n",
    "4. within the class self can be used to declare instance variables and to access\n",
    "5. instance variables"
   ]
  },
  {
   "cell_type": "markdown",
   "id": "71cda67d-a49c-4923-bb1e-2ef0d9f37dbd",
   "metadata": {},
   "source": [
    "### Details about Constructor."
   ]
  },
  {
   "cell_type": "markdown",
   "id": "47fa3553-eff4-4629-bba1-34772c070f2e",
   "metadata": {},
   "source": [
    "1. special method in python\n",
    "2. _init_()\n",
    "3. at the time of object creation\n",
    "4. to declare and initialize instance variables\n",
    "5. execute only once\n",
    "6. atleast one argument needed i.e., self\n",
    "7. python will provide default constructor"
   ]
  },
  {
   "cell_type": "markdown",
   "id": "cc4fbc89-a5ac-4083-a849-28458b4e5747",
   "metadata": {},
   "source": [
    "#### Below is the Sample for constructor overloading. But in Python constructor overloading is not possible (JAVA/C++ its available). So if we use more than one constructor / any number of constructor in the same class, but python will consider the last one."
   ]
  },
  {
   "cell_type": "code",
   "execution_count": 11,
   "id": "b2ac7d76-cc51-48f9-b99a-8103ca276690",
   "metadata": {},
   "outputs": [
    {
     "name": "stdout",
     "output_type": "stream",
     "text": [
      "No-arg\n"
     ]
    }
   ],
   "source": [
    "class test:\n",
    "    def __init__(self):  # Constructor\n",
    "        print('No-arg')\n",
    "t=test()"
   ]
  },
  {
   "cell_type": "code",
   "execution_count": 16,
   "id": "cf4b1d15-9092-411d-afda-d7e6572cf0b8",
   "metadata": {},
   "outputs": [
    {
     "name": "stdout",
     "output_type": "stream",
     "text": [
      "One-Arg\n"
     ]
    }
   ],
   "source": [
    "class test:\n",
    "    def __init__(self):  # 1st Constructor\n",
    "        print('No-arg')\n",
    "    def __init__(self,x): # 2nd & last Constructor. Python will consider this one \n",
    "        print('One-Arg')\n",
    "        \n",
    "#t=test()\n",
    "t= test(10)"
   ]
  },
  {
   "cell_type": "markdown",
   "id": "b6442b74-2604-4fb6-91a9-2aec5394be45",
   "metadata": {},
   "source": [
    "| **Variable**  | **Type**          | **Scope**                     |\n",
    "| ------------- | ----------------- | ----------------------------- |\n",
    "| `self.name`   | Instance Variable | Belongs to the object         |\n",
    "| `self.rollno` | Instance Variable | Belongs to the object         |\n",
    "| `age`         | Method Variable   | Local to the `display` method |\n",
    "details of below class"
   ]
  },
  {
   "cell_type": "code",
   "execution_count": 33,
   "id": "94c78612-7080-4bbe-9e6d-80ffbd1df0cf",
   "metadata": {},
   "outputs": [
    {
     "name": "stdout",
     "output_type": "stream",
     "text": [
      "My name is saran & my rollno is 100 & my age is 30\n"
     ]
    }
   ],
   "source": [
    "class student:\n",
    "    def __init__(self, name, rollno): \n",
    "        self.name = name\n",
    "        self.rollno = rollno\n",
    "    def display(self,age):\n",
    "        print(f\"My name is {self.name} & my rollno is {self.rollno} & my age is {age}\")\n",
    "\n",
    "s = student('saran',100)\n",
    "s.display(30)"
   ]
  },
  {
   "cell_type": "markdown",
   "id": "b35c4bbb-70e8-4ca1-8536-3729251b558e",
   "metadata": {},
   "source": [
    "Method (function)\n",
    "\n",
    "1. The name can be anything\n",
    "\n",
    "2. Method will be executed if we call\n",
    "\n",
    "3. Per object method can be called any no of times\n",
    "\n",
    "4. used to write business logic\n",
    "\n",
    "Constructor\n",
    "\n",
    "1. should be__init__()\n",
    "\n",
    "2. will be executed automatically, if we are creating object\n",
    "\n",
    "3. execute per object only once\n",
    "\n",
    "4. used to declare and initialize instance variables"
   ]
  },
  {
   "cell_type": "markdown",
   "id": "0beff9f5-036c-48f8-aaca-9fb640c392ad",
   "metadata": {},
   "source": [
    "### Inside a Python class\n",
    "\n",
    "3 Types of variables allowed:\n",
    "---------------------------\n",
    "1. Instance variables / object level variables\n",
    "2. Static Variables / class level variables\n",
    "3. Local variables (Method/function variables)\n",
    "\n",
    "3 Types of Methods allowed:\n",
    "-----------------------------\n",
    "1. instance methods\n",
    "2. class methods\n",
    "3. static methods"
   ]
  },
  {
   "cell_type": "code",
   "execution_count": 25,
   "id": "abb57bc8-9969-4a64-a14f-41cb9bed89b4",
   "metadata": {},
   "outputs": [
    {
     "name": "stdout",
     "output_type": "stream",
     "text": [
      "My Name is Saran\n",
      "My RollNo is 100\n",
      "My collage Name is IIT\n",
      "My Collage Name is IIT\n",
      "My Clge__Name is IIT\n",
      "My Clge__Name is IIT\n"
     ]
    }
   ],
   "source": [
    "class student:\n",
    "    clge_name = 'IIT'  # this is the class variable common to all the methods of this class, defined in the class anywhere,\\ \n",
    "                       # but outside tthe methods/functions of the class \n",
    "    def __init__(self,name,rollno): # Self means current object\n",
    "        self.name = name    # Instance Variables declared inside the methods of the class.\n",
    "        self.rollno = rollno\n",
    "    def display(self):\n",
    "        x = 100             # Local Varibales. the variables declared inside the methods for the temporery requirements is called Local variables.\n",
    "        print('My Name is',self.name)\n",
    "        print('My RollNo is',self.rollno)\n",
    "        print('My collage Name is',self.clge_name)\n",
    "        print('My Collage Name is',student.clge_name)\n",
    "\n",
    "    @classmethod       #@classmethod used a\n",
    "    def get_clge_name(cls): # here cls means current class level object to access the class level / static variable. Instead of cls we can give any name\n",
    "        print('My Clge__Name is',cls.clge_name)\n",
    "        print('My Clge__Name is',student.clge_name)\n",
    "s1 = student('Saran',100)\n",
    "s1.display()\n",
    "s1.get_clge_name()"
   ]
  },
  {
   "cell_type": "code",
   "execution_count": 15,
   "id": "e6164474-60a5-4fe0-913e-50bc678601f9",
   "metadata": {},
   "outputs": [
    {
     "data": {
      "text/plain": [
       "[]"
      ]
     },
     "execution_count": 15,
     "metadata": {},
     "output_type": "execute_result"
    }
   ],
   "source": [
    "items_to_buy = ['Apple','Orange','Mango','Grapes','Banana']\n",
    "items_to_buy[-2:-4]"
   ]
  },
  {
   "cell_type": "code",
   "execution_count": 17,
   "id": "911a5aa3-5cd0-44b7-b23f-64212ec1c8ec",
   "metadata": {},
   "outputs": [
    {
     "data": {
      "text/plain": [
       "['Orange', 'Mango']"
      ]
     },
     "execution_count": 17,
     "metadata": {},
     "output_type": "execute_result"
    }
   ],
   "source": [
    "items_to_buy[-4:-2]"
   ]
  },
  {
   "cell_type": "code",
   "execution_count": null,
   "id": "f952f079-a115-452d-848f-ed936e0186b1",
   "metadata": {},
   "outputs": [],
   "source": []
  }
 ],
 "metadata": {
  "kernelspec": {
   "display_name": "Python 3 (ipykernel)",
   "language": "python",
   "name": "python3"
  },
  "language_info": {
   "codemirror_mode": {
    "name": "ipython",
    "version": 3
   },
   "file_extension": ".py",
   "mimetype": "text/x-python",
   "name": "python",
   "nbconvert_exporter": "python",
   "pygments_lexer": "ipython3",
   "version": "3.11.5"
  }
 },
 "nbformat": 4,
 "nbformat_minor": 5
}
